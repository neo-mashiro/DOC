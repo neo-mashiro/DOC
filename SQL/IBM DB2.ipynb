{
 "cells": [
  {
   "cell_type": "markdown",
   "metadata": {
    "toc": true
   },
   "source": [
    "<h1>Table of Contents<span class=\"tocSkip\"></span></h1>\n",
    "<div class=\"toc\"><ul class=\"toc-item\"><li><span><a href=\"#Access-DB2-on-Cloud-using-Python\" data-toc-modified-id=\"Access-DB2-on-Cloud-using-Python-1\">Access DB2 on Cloud using Python</a></span><ul class=\"toc-item\"><li><ul class=\"toc-item\"><li><span><a href=\"#1:-Import-the-ibm_db-Python-library\" data-toc-modified-id=\"1:-Import-the-ibm_db-Python-library-1.0.1\">1: Import the <code>ibm_db</code> Python library</a></span></li><li><span><a href=\"#2:-Create-the-database-connection\" data-toc-modified-id=\"2:-Create-the-database-connection-1.0.2\">2: Create the database connection</a></span></li><li><span><a href=\"#3:-Create-a-table-in-the-database\" data-toc-modified-id=\"3:-Create-a-table-in-the-database-1.0.3\">3: Create a table in the database</a></span></li><li><span><a href=\"#4:-Insert-data-into-the-table\" data-toc-modified-id=\"4:-Insert-data-into-the-table-1.0.4\">4: Insert data into the table</a></span></li><li><span><a href=\"#5:-Query-data-in-the-table\" data-toc-modified-id=\"5:-Query-data-in-the-table-1.0.5\">5: Query data in the table</a></span></li><li><span><a href=\"#6:-Update-data-in-the-table\" data-toc-modified-id=\"6:-Update-data-in-the-table-1.0.6\">6: Update data in the table</a></span></li><li><span><a href=\"#7:-Retrieve-data-into-Pandas-dataframe\" data-toc-modified-id=\"7:-Retrieve-data-into-Pandas-dataframe-1.0.7\">7: Retrieve data into Pandas dataframe</a></span></li><li><span><a href=\"#8:-Close-the-Connection\" data-toc-modified-id=\"8:-Close-the-Connection-1.0.8\">8: Close the Connection</a></span></li></ul></li></ul></li><li><span><a href=\"#Access-Databases-with-SQL-Magic\" data-toc-modified-id=\"Access-Databases-with-SQL-Magic-2\">Access Databases with SQL Magic</a></span><ul class=\"toc-item\"><li><ul class=\"toc-item\"><li><span><a href=\"#1:-load-the-ipython-sql-extension\" data-toc-modified-id=\"1:-load-the-ipython-sql-extension-2.0.1\">1: load the ipython-sql extension</a></span></li><li><span><a href=\"#2:-connect\" data-toc-modified-id=\"2:-connect-2.0.2\">2: connect</a></span></li><li><span><a href=\"#3:-create-table\" data-toc-modified-id=\"3:-create-table-2.0.3\">3: create table</a></span></li><li><span><a href=\"#4:-Using-Python-Variables-in-your-SQL-Statements\" data-toc-modified-id=\"4:-Using-Python-Variables-in-your-SQL-Statements-2.0.4\">4: Using Python Variables in your SQL Statements</a></span></li><li><span><a href=\"#5:-Assigning-the-Results-of-Queries-to-Python-Variables-(cursor)\" data-toc-modified-id=\"5:-Assigning-the-Results-of-Queries-to-Python-Variables-(cursor)-2.0.5\">5: Assigning the Results of Queries to Python Variables (cursor)</a></span></li><li><span><a href=\"#6:-convert-cursor-to-a-pandas-dataframe\" data-toc-modified-id=\"6:-convert-cursor-to-a-pandas-dataframe-2.0.6\">6: convert cursor to a pandas dataframe</a></span></li><li><span><a href=\"#7:-%%-Sql-Magic-configuration\" data-toc-modified-id=\"7:-%%-Sql-Magic-configuration-2.0.7\">7: %% Sql Magic configuration</a></span></li><li><span><a href=\"#8:-close-connection\" data-toc-modified-id=\"8:-close-connection-2.0.8\">8: close connection</a></span></li></ul></li></ul></li><li><span><a href=\"#Example:-Chicago-Public-Schools---Progress-Report-Cards-(2011-2012)\" data-toc-modified-id=\"Example:-Chicago-Public-Schools---Progress-Report-Cards-(2011-2012)-3\">Example: Chicago Public Schools - Progress Report Cards (2011-2012)</a></span><ul class=\"toc-item\"><li><ul class=\"toc-item\"><li><span><a href=\"#1.-Store-the-dataset-in-a-Table\" data-toc-modified-id=\"1.-Store-the-dataset-in-a-Table-3.0.1\">1. Store the dataset in a Table</a></span></li><li><span><a href=\"#2.-Connect-to-the-database\" data-toc-modified-id=\"2.-Connect-to-the-database-3.0.2\">2. Connect to the database</a></span></li><li><span><a href=\"#3.-Query-the-database-system-catalog-to-retrieve-table-metadata\" data-toc-modified-id=\"3.-Query-the-database-system-catalog-to-retrieve-table-metadata-3.0.3\">3. Query the database system catalog to retrieve table metadata</a></span></li><li><span><a href=\"#4.-Query-the-database-system-catalog-to-retrieve-column-metadata\" data-toc-modified-id=\"4.-Query-the-database-system-catalog-to-retrieve-column-metadata-3.0.4\">4. Query the database system catalog to retrieve column metadata</a></span></li><li><span><a href=\"#4.-SQL-examples\" data-toc-modified-id=\"4.-SQL-examples-3.0.5\">4. SQL examples</a></span></li></ul></li></ul></li></ul></div>"
   ]
  },
  {
   "cell_type": "markdown",
   "metadata": {},
   "source": [
    "# Access DB2 on Cloud using Python"
   ]
  },
  {
   "cell_type": "markdown",
   "metadata": {},
   "source": [
    "### 1: Import the `ibm_db` Python library\n",
    "\n",
    "The `ibm_db` [API ](https://pypi.python.org/pypi/ibm_db/) provides a variety of useful Python functions for accessing and manipulating data in an IBM® data server database, including functions for connecting to a database, preparing and issuing SQL statements, fetching rows from result sets, calling stored procedures, committing and rolling back transactions, handling errors, and retrieving metadata."
   ]
  },
  {
   "cell_type": "code",
   "execution_count": 4,
   "metadata": {},
   "outputs": [],
   "source": [
    "import ibm_db"
   ]
  },
  {
   "cell_type": "markdown",
   "metadata": {},
   "source": [
    "### 2: Create the database connection\n",
    "\n",
    "Ibm_db API uses the IBM Data Server Driver for ODBC and CLI APIs to connect to IBM DB2 and Informix.\n"
   ]
  },
  {
   "cell_type": "code",
   "execution_count": 5,
   "metadata": {},
   "outputs": [
    {
     "name": "stdout",
     "output_type": "stream",
     "text": [
      "Connected!\n"
     ]
    }
   ],
   "source": [
    "# Identify the database connection credentials\n",
    "dsn = \"DATABASE=BLUDB;HOSTNAME=dashdb-txn-sbox-yp-dal09-03.services.dal.bluemix.net;PORT=50000;PROTOCOL=TCPIP;UID=cdq34813;PWD=1l7vj7-szs45d7qq;\"\n",
    "\n",
    "# Connect\n",
    "try:\n",
    "    conn = ibm_db.connect(dsn, \"\", \"\")\n",
    "    print(\"Connected!\")\n",
    "except:\n",
    "    print(\"Unable to connect to database\")"
   ]
  },
  {
   "cell_type": "markdown",
   "metadata": {},
   "source": [
    "### 3: Create a table in the database"
   ]
  },
  {
   "cell_type": "code",
   "execution_count": 6,
   "metadata": {},
   "outputs": [
    {
     "name": "stdout",
     "output_type": "stream",
     "text": [
      "<ibm_db.IBM_DBStatement object at 0x7f395c4a90a0>\n"
     ]
    }
   ],
   "source": [
    "dropQuery = \"drop table INSTRUCTOR\"\n",
    "dropStmt = ibm_db.exec_immediate(conn, dropQuery)\n",
    "\n",
    "createQuery = \"create table INSTRUCTOR(ID INTEGER PRIMARY KEY NOT NULL, FNAME VARCHAR(20), LNAME VARCHAR(20), CITY VARCHAR(20), CCODE CHAR(2))\"\n",
    "createStmt = ibm_db.exec_immediate(conn, createQuery)\n",
    "\n",
    "print(createStmt)"
   ]
  },
  {
   "cell_type": "markdown",
   "metadata": {},
   "source": [
    "### 4: Insert data into the table"
   ]
  },
  {
   "cell_type": "code",
   "execution_count": 7,
   "metadata": {},
   "outputs": [],
   "source": [
    "insertQuery = \"insert into INSTRUCTOR values (1, 'Rav', 'Ahuja', 'TORONTO', 'CA')\"\n",
    "insertStmt = ibm_db.exec_immediate(conn, insertQuery)\n",
    "\n",
    "insertQuery2 = \"insert into INSTRUCTOR values (2, 'Raul', 'Chong', 'Markham', 'CA'), (3, 'Hima', 'Vasudevan', 'Chicago', 'US')\"\n",
    "insertStmt2 = ibm_db.exec_immediate(conn, insertQuery2)"
   ]
  },
  {
   "cell_type": "markdown",
   "metadata": {},
   "source": [
    "### 5: Query data in the table"
   ]
  },
  {
   "cell_type": "code",
   "execution_count": 8,
   "metadata": {},
   "outputs": [],
   "source": [
    "selectQuery = \"select * from INSTRUCTOR\"\n",
    "selectStmt = ibm_db.exec_immediate(conn, selectQuery)"
   ]
  },
  {
   "cell_type": "code",
   "execution_count": 9,
   "metadata": {},
   "outputs": [
    {
     "name": "stdout",
     "output_type": "stream",
     "text": [
      " ID: 1  FNAME: Rav\n",
      " ID: 2  FNAME: Raul\n",
      " ID: 3  FNAME: Hima\n"
     ]
    }
   ],
   "source": [
    "# ibm_db.fetch_row(sql) returns True if sql has data\n",
    "# ibm_db.result(sql, col_idx) extract data row by row from sql\n",
    "while ibm_db.fetch_row(selectStmt) != False:\n",
    "    print(\" ID:\", ibm_db.result(selectStmt, 0), \" FNAME:\", ibm_db.result(selectStmt, \"FNAME\"))"
   ]
  },
  {
   "cell_type": "markdown",
   "metadata": {},
   "source": [
    "### 6: Update data in the table"
   ]
  },
  {
   "cell_type": "code",
   "execution_count": 10,
   "metadata": {},
   "outputs": [],
   "source": [
    "ibm_db.autocommit(conn, ibm_db.SQL_AUTOCOMMIT_OFF)\n",
    "\n",
    "updateQuery = \"update INSTRUCTOR set CITY='MOOSETOWN' where FNAME='Rav'\"\n",
    "updateStmt = ibm_db.exec_immediate(conn, updateQuery)"
   ]
  },
  {
   "cell_type": "code",
   "execution_count": 11,
   "metadata": {},
   "outputs": [
    {
     "data": {
      "text/plain": [
       "True"
      ]
     },
     "execution_count": 11,
     "metadata": {},
     "output_type": "execute_result"
    }
   ],
   "source": [
    "ibm_db.commit(conn)"
   ]
  },
  {
   "cell_type": "markdown",
   "metadata": {},
   "source": [
    "### 7: Retrieve data into Pandas dataframe"
   ]
  },
  {
   "cell_type": "code",
   "execution_count": 12,
   "metadata": {},
   "outputs": [],
   "source": [
    "import pandas\n",
    "import ibm_db_dbi"
   ]
  },
  {
   "cell_type": "code",
   "execution_count": 13,
   "metadata": {},
   "outputs": [],
   "source": [
    "#connection for pandas\n",
    "pconn = ibm_db_dbi.Connection(conn)"
   ]
  },
  {
   "cell_type": "code",
   "execution_count": 14,
   "metadata": {},
   "outputs": [
    {
     "data": {
      "text/html": [
       "<div>\n",
       "<table border=\"1\" class=\"dataframe\">\n",
       "  <thead>\n",
       "    <tr style=\"text-align: right;\">\n",
       "      <th></th>\n",
       "      <th>ID</th>\n",
       "      <th>FNAME</th>\n",
       "      <th>LNAME</th>\n",
       "      <th>CITY</th>\n",
       "      <th>CCODE</th>\n",
       "    </tr>\n",
       "  </thead>\n",
       "  <tbody>\n",
       "    <tr>\n",
       "      <th>0</th>\n",
       "      <td>1</td>\n",
       "      <td>Rav</td>\n",
       "      <td>Ahuja</td>\n",
       "      <td>MOOSETOWN</td>\n",
       "      <td>CA</td>\n",
       "    </tr>\n",
       "    <tr>\n",
       "      <th>1</th>\n",
       "      <td>2</td>\n",
       "      <td>Raul</td>\n",
       "      <td>Chong</td>\n",
       "      <td>Markham</td>\n",
       "      <td>CA</td>\n",
       "    </tr>\n",
       "    <tr>\n",
       "      <th>2</th>\n",
       "      <td>3</td>\n",
       "      <td>Hima</td>\n",
       "      <td>Vasudevan</td>\n",
       "      <td>Chicago</td>\n",
       "      <td>US</td>\n",
       "    </tr>\n",
       "  </tbody>\n",
       "</table>\n",
       "</div>"
      ],
      "text/plain": [
       "   ID FNAME      LNAME       CITY CCODE\n",
       "0   1   Rav      Ahuja  MOOSETOWN    CA\n",
       "1   2  Raul      Chong    Markham    CA\n",
       "2   3  Hima  Vasudevan    Chicago    US"
      ]
     },
     "execution_count": 14,
     "metadata": {},
     "output_type": "execute_result"
    }
   ],
   "source": [
    "sql = \"select * from INSTRUCTOR\"\n",
    "df = pandas.read_sql(sql, pconn)\n",
    "df"
   ]
  },
  {
   "cell_type": "markdown",
   "metadata": {},
   "source": [
    "### 8: Close the Connection"
   ]
  },
  {
   "cell_type": "code",
   "execution_count": 15,
   "metadata": {},
   "outputs": [
    {
     "data": {
      "text/plain": [
       "True"
      ]
     },
     "execution_count": 15,
     "metadata": {},
     "output_type": "execute_result"
    }
   ],
   "source": [
    "ibm_db.close(conn)"
   ]
  },
  {
   "cell_type": "markdown",
   "metadata": {},
   "source": [
    "# Access Databases with SQL Magic"
   ]
  },
  {
   "cell_type": "markdown",
   "metadata": {},
   "source": [
    "To communicate with SQL Databases from within a JupyterLab notebook, we can use the SQL \"magic\" provided by the [ipython-sql](https://github.com/catherinedevlin/ipython-sql) extension.  \n",
    "\"Magic\" is JupyterLab's term for special commands that start with \"%\".  \n",
    "**Use `%%sql` at the top of a cell to indicate we want the entire cell to be treated as SQL.**  \n",
    "**Use `%sql` followed by a sql statement to indicate we want the single row to be treated as SQL.**"
   ]
  },
  {
   "cell_type": "code",
   "execution_count": 1,
   "metadata": {},
   "outputs": [
    {
     "data": {
      "application/json": {
       "cell": {
        "!": "OSMagics",
        "HTML": "Other",
        "SVG": "Other",
        "bash": "Other",
        "capture": "ExecutionMagics",
        "debug": "ExecutionMagics",
        "file": "Other",
        "html": "DisplayMagics",
        "javascript": "DisplayMagics",
        "js": "DisplayMagics",
        "latex": "DisplayMagics",
        "markdown": "DisplayMagics",
        "perl": "Other",
        "prun": "ExecutionMagics",
        "pypy": "Other",
        "python": "Other",
        "python2": "Other",
        "python3": "Other",
        "ruby": "Other",
        "script": "ScriptMagics",
        "sh": "Other",
        "svg": "DisplayMagics",
        "sx": "OSMagics",
        "system": "OSMagics",
        "time": "ExecutionMagics",
        "timeit": "ExecutionMagics",
        "writefile": "OSMagics"
       },
       "line": {
        "alias": "OSMagics",
        "alias_magic": "BasicMagics",
        "autocall": "AutoMagics",
        "automagic": "AutoMagics",
        "autosave": "KernelMagics",
        "bookmark": "OSMagics",
        "cat": "Other",
        "cd": "OSMagics",
        "clear": "KernelMagics",
        "colors": "BasicMagics",
        "config": "ConfigMagics",
        "connect_info": "KernelMagics",
        "cp": "Other",
        "debug": "ExecutionMagics",
        "dhist": "OSMagics",
        "dirs": "OSMagics",
        "doctest_mode": "BasicMagics",
        "ed": "Other",
        "edit": "KernelMagics",
        "env": "OSMagics",
        "gui": "BasicMagics",
        "hist": "Other",
        "history": "HistoryMagics",
        "killbgscripts": "ScriptMagics",
        "ldir": "Other",
        "less": "KernelMagics",
        "lf": "Other",
        "lk": "Other",
        "ll": "Other",
        "load": "CodeMagics",
        "load_ext": "ExtensionMagics",
        "loadpy": "CodeMagics",
        "logoff": "LoggingMagics",
        "logon": "LoggingMagics",
        "logstart": "LoggingMagics",
        "logstate": "LoggingMagics",
        "logstop": "LoggingMagics",
        "ls": "Other",
        "lsmagic": "BasicMagics",
        "lx": "Other",
        "macro": "ExecutionMagics",
        "magic": "BasicMagics",
        "man": "KernelMagics",
        "matplotlib": "PylabMagics",
        "mkdir": "Other",
        "more": "KernelMagics",
        "mv": "Other",
        "notebook": "BasicMagics",
        "page": "BasicMagics",
        "pastebin": "CodeMagics",
        "pdb": "ExecutionMagics",
        "pdef": "NamespaceMagics",
        "pdoc": "NamespaceMagics",
        "pfile": "NamespaceMagics",
        "pinfo": "NamespaceMagics",
        "pinfo2": "NamespaceMagics",
        "pip": "BasicMagics",
        "popd": "OSMagics",
        "pprint": "BasicMagics",
        "precision": "BasicMagics",
        "profile": "BasicMagics",
        "prun": "ExecutionMagics",
        "psearch": "NamespaceMagics",
        "psource": "NamespaceMagics",
        "pushd": "OSMagics",
        "pwd": "OSMagics",
        "pycat": "OSMagics",
        "pylab": "PylabMagics",
        "qtconsole": "KernelMagics",
        "quickref": "BasicMagics",
        "recall": "HistoryMagics",
        "rehashx": "OSMagics",
        "reload_ext": "ExtensionMagics",
        "rep": "Other",
        "rerun": "HistoryMagics",
        "reset": "NamespaceMagics",
        "reset_selective": "NamespaceMagics",
        "rm": "Other",
        "rmdir": "Other",
        "run": "ExecutionMagics",
        "save": "CodeMagics",
        "sc": "OSMagics",
        "set_env": "OSMagics",
        "store": "StoreMagics",
        "sx": "OSMagics",
        "system": "OSMagics",
        "tb": "ExecutionMagics",
        "time": "ExecutionMagics",
        "timeit": "ExecutionMagics",
        "unalias": "OSMagics",
        "unload_ext": "ExtensionMagics",
        "who": "NamespaceMagics",
        "who_ls": "NamespaceMagics",
        "whos": "NamespaceMagics",
        "xdel": "NamespaceMagics",
        "xmode": "BasicMagics"
       }
      },
      "text/plain": [
       "Available line magics:\n",
       "%alias  %alias_magic  %autocall  %automagic  %autosave  %bookmark  %cat  %cd  %clear  %colors  %config  %connect_info  %cp  %debug  %dhist  %dirs  %doctest_mode  %ed  %edit  %env  %gui  %hist  %history  %killbgscripts  %ldir  %less  %lf  %lk  %ll  %load  %load_ext  %loadpy  %logoff  %logon  %logstart  %logstate  %logstop  %ls  %lsmagic  %lx  %macro  %magic  %man  %matplotlib  %mkdir  %more  %mv  %notebook  %page  %pastebin  %pdb  %pdef  %pdoc  %pfile  %pinfo  %pinfo2  %popd  %pprint  %precision  %profile  %prun  %psearch  %psource  %pushd  %pwd  %pycat  %pylab  %qtconsole  %quickref  %recall  %rehashx  %reload_ext  %rep  %rerun  %reset  %reset_selective  %rm  %rmdir  %run  %save  %sc  %set_env  %store  %sx  %system  %tb  %time  %timeit  %unalias  %unload_ext  %who  %who_ls  %whos  %xdel  %xmode\n",
       "\n",
       "Available cell magics:\n",
       "%%!  %%HTML  %%SVG  %%bash  %%capture  %%debug  %%file  %%html  %%javascript  %%js  %%latex  %%markdown  %%perl  %%prun  %%pypy  %%python  %%python2  %%python3  %%ruby  %%script  %%sh  %%svg  %%sx  %%system  %%time  %%timeit  %%writefile\n",
       "\n",
       "Automagic is ON, % prefix IS NOT needed for line magics."
      ]
     },
     "execution_count": 1,
     "metadata": {},
     "output_type": "execute_result"
    }
   ],
   "source": [
    "# list all available magic functions\n",
    "%lsmagic"
   ]
  },
  {
   "cell_type": "markdown",
   "metadata": {},
   "source": [
    "### 1: load the ipython-sql extension"
   ]
  },
  {
   "cell_type": "code",
   "execution_count": 2,
   "metadata": {},
   "outputs": [],
   "source": [
    "import ibm_db\n",
    "import ibm_db_sa\n",
    "import sqlalchemy\n",
    "\n",
    "%load_ext sql"
   ]
  },
  {
   "cell_type": "markdown",
   "metadata": {},
   "source": [
    "### 2: connect\n",
    "**format**: ibm_db_sa://username:password@hostname:port/database-name"
   ]
  },
  {
   "cell_type": "code",
   "execution_count": 3,
   "metadata": {},
   "outputs": [
    {
     "data": {
      "text/plain": [
       "'Connected: cdq34813@BLUDB'"
      ]
     },
     "execution_count": 3,
     "metadata": {},
     "output_type": "execute_result"
    }
   ],
   "source": [
    "%sql ibm_db_sa://cdq34813:1l7vj7-szs45d7qq@dashdb-txn-sbox-yp-dal09-03.services.dal.bluemix.net:50000/BLUDB"
   ]
  },
  {
   "cell_type": "markdown",
   "metadata": {},
   "source": [
    "### 3: create table"
   ]
  },
  {
   "cell_type": "code",
   "execution_count": 4,
   "metadata": {},
   "outputs": [
    {
     "name": "stdout",
     "output_type": "stream",
     "text": [
      " * ibm_db_sa://cdq34813:***@dashdb-txn-sbox-yp-dal09-03.services.dal.bluemix.net:50000/BLUDB\n",
      "Done.\n",
      "Done.\n"
     ]
    },
    {
     "data": {
      "text/plain": [
       "[]"
      ]
     },
     "execution_count": 4,
     "metadata": {},
     "output_type": "execute_result"
    }
   ],
   "source": [
    "%%sql\n",
    "\n",
    "DROP TABLE INTERNATIONAL_STUDENT_TEST_SCORES;\n",
    "\n",
    "CREATE TABLE INTERNATIONAL_STUDENT_TEST_SCORES (country     VARCHAR(50)\n",
    "                                               ,first_name  VARCHAR(50)\n",
    "                                               ,last_name   VARCHAR(50)\n",
    "                                               ,test_score  INT\n",
    "                                               );"
   ]
  },
  {
   "cell_type": "code",
   "execution_count": 5,
   "metadata": {},
   "outputs": [],
   "source": [
    "%config SqlMagic.autocommit=False"
   ]
  },
  {
   "cell_type": "code",
   "execution_count": 6,
   "metadata": {},
   "outputs": [
    {
     "name": "stdout",
     "output_type": "stream",
     "text": [
      " * ibm_db_sa://cdq34813:***@dashdb-txn-sbox-yp-dal09-03.services.dal.bluemix.net:50000/BLUDB\n",
      "0 rows affected.\n",
      "21 rows affected.\n"
     ]
    },
    {
     "data": {
      "text/plain": [
       "[]"
      ]
     },
     "execution_count": 6,
     "metadata": {},
     "output_type": "execute_result"
    }
   ],
   "source": [
    "%%sql\n",
    "\n",
    "DELETE INTERNATIONAL_STUDENT_TEST_SCORES;\n",
    "\n",
    "INSERT INTO INTERNATIONAL_STUDENT_TEST_SCORES\n",
    "            (country, first_name, last_name, test_score)\n",
    "     VALUES ('United States', 'Marshall', 'Bernadot', 54)\n",
    "           ,('Ghana', 'Celinda', 'Malkin', 51)\n",
    "           ,('Ukraine', 'Guillermo', 'Furze', 53)\n",
    "           ,('Greece', 'Aharon', 'Tunnow', 48)\n",
    "           ,('Russia', 'Bail', 'Goodwin', 46)\n",
    "           ,('Poland', 'Cole', 'Winteringham', 49)\n",
    "           ,('Sweden', 'Emlyn', 'Erricker', 55)\n",
    "           ,('Russia', 'Cathee', 'Sivewright', 49)\n",
    "           ,('China', 'Barny', 'Ingerson', 57)\n",
    "           ,('Uganda', 'Sharla', 'Papaccio', 55)\n",
    "           ,('China', 'Stella', 'Youens', 51)\n",
    "           ,('Poland', 'Julio', 'Buesden', 48)\n",
    "           ,('United States', 'Tiffie', 'Cosely', 58)\n",
    "           ,('Poland', 'Auroora', 'Stiffell', 45)\n",
    "           ,('China', 'Clarita', 'Huet', 52)\n",
    "           ,('Poland', 'Shannon', 'Goulden', 45)\n",
    "           ,('Philippines', 'Emylee', 'Privost', 50)\n",
    "           ,('France', 'Madelina', 'Burk', 49)\n",
    "           ,('China', 'Saunderson', 'Root', 58)\n",
    "           ,('Indonesia', 'Bo', 'Waring', 55)\n",
    "           ,('China', 'Hollis', 'Domotor', 45)\n",
    "           ;"
   ]
  },
  {
   "cell_type": "code",
   "execution_count": 7,
   "metadata": {},
   "outputs": [
    {
     "name": "stdout",
     "output_type": "stream",
     "text": [
      " * ibm_db_sa://cdq34813:***@dashdb-txn-sbox-yp-dal09-03.services.dal.bluemix.net:50000/BLUDB\n",
      "Done.\n"
     ]
    },
    {
     "data": {
      "text/plain": [
       "[]"
      ]
     },
     "execution_count": 7,
     "metadata": {},
     "output_type": "execute_result"
    }
   ],
   "source": [
    "%sql commit;"
   ]
  },
  {
   "cell_type": "code",
   "execution_count": 77,
   "metadata": {},
   "outputs": [
    {
     "name": "stdout",
     "output_type": "stream",
     "text": [
      " * ibm_db_sa://cdq34813:***@dashdb-txn-sbox-yp-dal09-03.services.dal.bluemix.net:50000/BLUDB\n",
      "Done.\n"
     ]
    },
    {
     "data": {
      "text/plain": [
       "[]"
      ]
     },
     "execution_count": 77,
     "metadata": {},
     "output_type": "execute_result"
    }
   ],
   "source": [
    "%sql rollback;"
   ]
  },
  {
   "cell_type": "markdown",
   "metadata": {},
   "source": [
    "### 4: Using Python Variables in your SQL Statements\n",
    "You can use python variables in your SQL statements by adding a **\":\"** prefix to your python variable names.  "
   ]
  },
  {
   "cell_type": "code",
   "execution_count": 8,
   "metadata": {},
   "outputs": [
    {
     "name": "stdout",
     "output_type": "stream",
     "text": [
      " * ibm_db_sa://cdq34813:***@dashdb-txn-sbox-yp-dal09-03.services.dal.bluemix.net:50000/BLUDB\n",
      "Done.\n"
     ]
    },
    {
     "data": {
      "text/html": [
       "<table>\n",
       "    <tr>\n",
       "        <th>country</th>\n",
       "        <th>first_name</th>\n",
       "        <th>last_name</th>\n",
       "        <th>test_score</th>\n",
       "    </tr>\n",
       "    <tr>\n",
       "        <td>China</td>\n",
       "        <td>Barny</td>\n",
       "        <td>Ingerson</td>\n",
       "        <td>57</td>\n",
       "    </tr>\n",
       "    <tr>\n",
       "        <td>China</td>\n",
       "        <td>Stella</td>\n",
       "        <td>Youens</td>\n",
       "        <td>51</td>\n",
       "    </tr>\n",
       "    <tr>\n",
       "        <td>China</td>\n",
       "        <td>Clarita</td>\n",
       "        <td>Huet</td>\n",
       "        <td>52</td>\n",
       "    </tr>\n",
       "    <tr>\n",
       "        <td>China</td>\n",
       "        <td>Saunderson</td>\n",
       "        <td>Root</td>\n",
       "        <td>58</td>\n",
       "    </tr>\n",
       "    <tr>\n",
       "        <td>China</td>\n",
       "        <td>Hollis</td>\n",
       "        <td>Domotor</td>\n",
       "        <td>45</td>\n",
       "    </tr>\n",
       "</table>"
      ],
      "text/plain": [
       "[('China', 'Barny', 'Ingerson', 57),\n",
       " ('China', 'Stella', 'Youens', 51),\n",
       " ('China', 'Clarita', 'Huet', 52),\n",
       " ('China', 'Saunderson', 'Root', 58),\n",
       " ('China', 'Hollis', 'Domotor', 45)]"
      ]
     },
     "execution_count": 8,
     "metadata": {},
     "output_type": "execute_result"
    }
   ],
   "source": [
    "country = \"China\"\n",
    "%sql select * from INTERNATIONAL_STUDENT_TEST_SCORES where country = :country"
   ]
  },
  {
   "cell_type": "markdown",
   "metadata": {},
   "source": [
    "### 5: Assigning the Results of Queries to Python Variables (cursor)"
   ]
  },
  {
   "cell_type": "code",
   "execution_count": 9,
   "metadata": {},
   "outputs": [
    {
     "name": "stdout",
     "output_type": "stream",
     "text": [
      " * ibm_db_sa://cdq34813:***@dashdb-txn-sbox-yp-dal09-03.services.dal.bluemix.net:50000/BLUDB\n",
      "Done.\n"
     ]
    },
    {
     "data": {
      "text/html": [
       "<table>\n",
       "    <tr>\n",
       "        <th>Test Score</th>\n",
       "        <th>Frequency</th>\n",
       "    </tr>\n",
       "    <tr>\n",
       "        <td>45</td>\n",
       "        <td>3</td>\n",
       "    </tr>\n",
       "    <tr>\n",
       "        <td>46</td>\n",
       "        <td>1</td>\n",
       "    </tr>\n",
       "    <tr>\n",
       "        <td>48</td>\n",
       "        <td>2</td>\n",
       "    </tr>\n",
       "    <tr>\n",
       "        <td>49</td>\n",
       "        <td>3</td>\n",
       "    </tr>\n",
       "    <tr>\n",
       "        <td>50</td>\n",
       "        <td>1</td>\n",
       "    </tr>\n",
       "    <tr>\n",
       "        <td>51</td>\n",
       "        <td>2</td>\n",
       "    </tr>\n",
       "    <tr>\n",
       "        <td>52</td>\n",
       "        <td>1</td>\n",
       "    </tr>\n",
       "    <tr>\n",
       "        <td>53</td>\n",
       "        <td>1</td>\n",
       "    </tr>\n",
       "    <tr>\n",
       "        <td>54</td>\n",
       "        <td>1</td>\n",
       "    </tr>\n",
       "    <tr>\n",
       "        <td>55</td>\n",
       "        <td>3</td>\n",
       "    </tr>\n",
       "    <tr>\n",
       "        <td>57</td>\n",
       "        <td>1</td>\n",
       "    </tr>\n",
       "    <tr>\n",
       "        <td>58</td>\n",
       "        <td>2</td>\n",
       "    </tr>\n",
       "</table>"
      ],
      "text/plain": [
       "[(45, Decimal('3')),\n",
       " (46, Decimal('1')),\n",
       " (48, Decimal('2')),\n",
       " (49, Decimal('3')),\n",
       " (50, Decimal('1')),\n",
       " (51, Decimal('2')),\n",
       " (52, Decimal('1')),\n",
       " (53, Decimal('1')),\n",
       " (54, Decimal('1')),\n",
       " (55, Decimal('3')),\n",
       " (57, Decimal('1')),\n",
       " (58, Decimal('2'))]"
      ]
     },
     "execution_count": 9,
     "metadata": {},
     "output_type": "execute_result"
    }
   ],
   "source": [
    "cursor = %sql SELECT test_score as \"Test Score\", count(*) as \"Frequency\" from INTERNATIONAL_STUDENT_TEST_SCORES GROUP BY test_score;\n",
    "cursor"
   ]
  },
  {
   "cell_type": "code",
   "execution_count": 10,
   "metadata": {},
   "outputs": [
    {
     "data": {
      "text/plain": [
       "sql.run.ResultSet"
      ]
     },
     "execution_count": 10,
     "metadata": {},
     "output_type": "execute_result"
    }
   ],
   "source": [
    "type(cursor)"
   ]
  },
  {
   "cell_type": "code",
   "execution_count": 12,
   "metadata": {},
   "outputs": [
    {
     "data": {
      "text/plain": [
       "([<matplotlib.patches.Wedge at 0x7efd2e13f9e8>,\n",
       "  <matplotlib.patches.Wedge at 0x7efd2e1466a0>,\n",
       "  <matplotlib.patches.Wedge at 0x7efd2e14c2e8>,\n",
       "  <matplotlib.patches.Wedge at 0x7efd2e14cf28>,\n",
       "  <matplotlib.patches.Wedge at 0x7efd2e0d1ba8>,\n",
       "  <matplotlib.patches.Wedge at 0x7efd2e0d7828>,\n",
       "  <matplotlib.patches.Wedge at 0x7efd2e0dd4a8>,\n",
       "  <matplotlib.patches.Wedge at 0x7efd2e0e3128>,\n",
       "  <matplotlib.patches.Wedge at 0x7efd2e0e3d68>,\n",
       "  <matplotlib.patches.Wedge at 0x7efd2e0e89e8>,\n",
       "  <matplotlib.patches.Wedge at 0x7efd2e0ef668>,\n",
       "  <matplotlib.patches.Wedge at 0x7efd2e0f52e8>],\n",
       " [<matplotlib.text.Text at 0x7efd2e146240>,\n",
       "  <matplotlib.text.Text at 0x7efd2e146e48>,\n",
       "  <matplotlib.text.Text at 0x7efd2e14cac8>,\n",
       "  <matplotlib.text.Text at 0x7efd2e0d1748>,\n",
       "  <matplotlib.text.Text at 0x7efd2e0d73c8>,\n",
       "  <matplotlib.text.Text at 0x7efd2e0d7f28>,\n",
       "  <matplotlib.text.Text at 0x7efd2e0ddc88>,\n",
       "  <matplotlib.text.Text at 0x7efd2e0e3908>,\n",
       "  <matplotlib.text.Text at 0x7efd2e0e8588>,\n",
       "  <matplotlib.text.Text at 0x7efd2e0ef208>,\n",
       "  <matplotlib.text.Text at 0x7efd2e0efe48>,\n",
       "  <matplotlib.text.Text at 0x7efd2e0f5ac8>])"
      ]
     },
     "execution_count": 12,
     "metadata": {},
     "output_type": "execute_result"
    },
    {
     "data": {
      "image/png": "[encoded data removed]",
      "text/plain": [
       "<matplotlib.figure.Figure at 0x7efd319e29b0>"
      ]
     },
     "metadata": {},
     "output_type": "display_data"
    }
   ],
   "source": [
    "cursor.pie()"
   ]
  },
  {
   "cell_type": "markdown",
   "metadata": {},
   "source": [
    "### 6: convert cursor to a pandas dataframe"
   ]
  },
  {
   "cell_type": "code",
   "execution_count": 13,
   "metadata": {},
   "outputs": [
    {
     "name": "stderr",
     "output_type": "stream",
     "text": [
      "/usr/lib/python3/dist-packages/matplotlib/__init__.py:874: UserWarning: axes.color_cycle is deprecated and replaced with axes.prop_cycle; please use the latter.\n",
      "  warnings.warn(self.msg_depr % (key, alt_key))\n",
      "/usr/lib/python3/dist-packages/matplotlib/__init__.py:894: UserWarning: axes.color_cycle is deprecated and replaced with axes.prop_cycle; please use the latter.\n",
      "  warnings.warn(self.msg_depr % (key, alt_key))\n"
     ]
    },
    {
     "data": {
      "image/png": "[encoded data removed]",
      "text/plain": [
       "<matplotlib.figure.Figure at 0x7efd3a9cf160>"
      ]
     },
     "metadata": {},
     "output_type": "display_data"
    }
   ],
   "source": [
    "df = cursor.DataFrame()\n",
    "\n",
    "%matplotlib inline\n",
    "import seaborn\n",
    "\n",
    "plot = seaborn.barplot(x='Test Score',y='Frequency', data=df)"
   ]
  },
  {
   "cell_type": "markdown",
   "metadata": {},
   "source": [
    "### 7: %% Sql Magic configuration"
   ]
  },
  {
   "cell_type": "code",
   "execution_count": 14,
   "metadata": {},
   "outputs": [
    {
     "name": "stdout",
     "output_type": "stream",
     "text": [
      "SqlMagic options\n",
      "--------------\n",
      "SqlMagic.autocommit=<Bool>\n",
      "    Current: False\n",
      "    Set autocommit mode\n",
      "SqlMagic.autolimit=<Int>\n",
      "    Current: 0\n",
      "    Automatically limit the size of the returned result sets\n",
      "SqlMagic.autopandas=<Bool>\n",
      "    Current: False\n",
      "    Return Pandas DataFrames instead of regular result sets\n",
      "SqlMagic.column_local_vars=<Bool>\n",
      "    Current: False\n",
      "    Return data into local variables from column names\n",
      "SqlMagic.displaylimit=<Int>\n",
      "    Current: None\n",
      "    Automatically limit the number of rows displayed (full result set is still\n",
      "    stored)\n",
      "SqlMagic.dsn_filename=<Unicode>\n",
      "    Current: 'odbc.ini'\n",
      "    Path to DSN file. When the first argument is of the form [section], a\n",
      "    sqlalchemy connection string is formed from the matching section in the DSN\n",
      "    file.\n",
      "SqlMagic.feedback=<Bool>\n",
      "    Current: True\n",
      "    Print number of rows affected by DML\n",
      "SqlMagic.short_errors=<Bool>\n",
      "    Current: True\n",
      "    Don't display the full traceback on SQL Programming Error\n",
      "SqlMagic.style=<Unicode>\n",
      "    Current: 'DEFAULT'\n",
      "    Set the table printing style to any of prettytable's defined styles\n",
      "    (currently DEFAULT, MSWORD_FRIENDLY, PLAIN_COLUMNS, RANDOM)\n"
     ]
    }
   ],
   "source": [
    "%config SqlMagic"
   ]
  },
  {
   "cell_type": "code",
   "execution_count": 15,
   "metadata": {},
   "outputs": [],
   "source": [
    "%config SqlMagic.autocommit=False\n",
    "%config SqlMagic.displaylimit=20\n",
    "%config SqlMagic.feedback=True"
   ]
  },
  {
   "cell_type": "markdown",
   "metadata": {},
   "source": [
    "### 8: close connection  \n",
    "Disconnecting explicitly is not possible, simply halt the notebook"
   ]
  },
  {
   "cell_type": "markdown",
   "metadata": {},
   "source": [
    "# Example: Chicago Public Schools - Progress Report Cards (2011-2012) \n",
    "\n",
    "The city of Chicago released a dataset showing all school level performance data used to create School Report Cards for the 2011-2012 school year. The dataset is available from the Chicago Data Portal: https://data.cityofchicago.org/Education/Chicago-Public-Schools-Progress-Report-Cards-2011-/9xs2-f89t\n",
    "\n",
    "This dataset includes a large number of metrics. Start by familiarizing yourself with the types of metrics in the database: https://data.cityofchicago.org/api/assets/AAD41A13-BE8A-4E67-B1F5-86E711E09D5F?download=true\n",
    "\n",
    "Now download a static copy of this database and review some of its contents:\n",
    "https://ibm.box.com/shared/static/0g7kbanvn5l2gt2qu38ukooatnjqyuys.csv\n"
   ]
  },
  {
   "cell_type": "markdown",
   "metadata": {},
   "source": [
    "### 1. Store the dataset in a Table\n",
    "In many cases the dataset to be analyzed is available as a .CSV (comma separated values) file, perhaps on the internet. To analyze the data using SQL, it first needs to be stored in the database.\n",
    "\n",
    "__It is highly recommended to manually load the table using the database console LOAD tool.__\n",
    "\n",
    "Now open the Db2 console, open the LOAD tool, Select / Drag the .CSV file and load the dataset into a new table called __SCHOOLS__.\n",
    "You will need to click on create \"(+) New Table\" and specify the name of the table you want to create and then click \"Next\". \n",
    "\n",
    "<a href=\"https://cognitiveclass.ai\"><img src = \"https://ibm.box.com/shared/static/uc4xjh1uxcc78ks1i18v668simioz4es.jpg\"></a>"
   ]
  },
  {
   "cell_type": "markdown",
   "metadata": {},
   "source": [
    "### 2. Connect to the database"
   ]
  },
  {
   "cell_type": "code",
   "execution_count": 1,
   "metadata": {},
   "outputs": [],
   "source": [
    "%load_ext sql"
   ]
  },
  {
   "cell_type": "code",
   "execution_count": 2,
   "metadata": {},
   "outputs": [
    {
     "data": {
      "text/plain": [
       "'Connected: cdq34813@BLUDB'"
      ]
     },
     "execution_count": 2,
     "metadata": {},
     "output_type": "execute_result"
    }
   ],
   "source": [
    "%sql ibm_db_sa://cdq34813:1l7vj7-szs45d7qq@dashdb-txn-sbox-yp-dal09-03.services.dal.bluemix.net:50000/BLUDB"
   ]
  },
  {
   "cell_type": "markdown",
   "metadata": {},
   "source": [
    "### 3. Query the database system catalog to retrieve table metadata\n",
    "\n",
    "##### You can verify that the table creation was successful by retrieving the list of all tables in your schema and checking whether the SCHOOLS table was created"
   ]
  },
  {
   "cell_type": "code",
   "execution_count": 3,
   "metadata": {},
   "outputs": [
    {
     "name": "stdout",
     "output_type": "stream",
     "text": [
      " * ibm_db_sa://cdq34813:***@dashdb-txn-sbox-yp-dal09-03.services.dal.bluemix.net:50000/BLUDB\n",
      "Done.\n"
     ]
    },
    {
     "data": {
      "text/html": [
       "<table>\n",
       "    <tr>\n",
       "        <th>tabschema</th>\n",
       "        <th>tabname</th>\n",
       "        <th>create_time</th>\n",
       "    </tr>\n",
       "    <tr>\n",
       "        <td>CDQ34813</td>\n",
       "        <td>INTERNATIONAL_STUDENT_TEST_SCORES</td>\n",
       "        <td>2018-08-16 10:10:17.330613</td>\n",
       "    </tr>\n",
       "    <tr>\n",
       "        <td>CDQ34813</td>\n",
       "        <td>INSTRUCTOR</td>\n",
       "        <td>2018-09-16 06:10:25.324141</td>\n",
       "    </tr>\n",
       "    <tr>\n",
       "        <td>CDQ34813</td>\n",
       "        <td>SCHOOLS</td>\n",
       "        <td>2018-09-16 08:05:27.553051</td>\n",
       "    </tr>\n",
       "</table>"
      ],
      "text/plain": [
       "[('CDQ34813', 'INTERNATIONAL_STUDENT_TEST_SCORES', datetime.datetime(2018, 8, 16, 10, 10, 17, 330613)),\n",
       " ('CDQ34813', 'INSTRUCTOR', datetime.datetime(2018, 9, 16, 6, 10, 25, 324141)),\n",
       " ('CDQ34813', 'SCHOOLS', datetime.datetime(2018, 9, 16, 8, 5, 27, 553051))]"
      ]
     },
     "execution_count": 3,
     "metadata": {},
     "output_type": "execute_result"
    }
   ],
   "source": [
    "%sql select TABSCHEMA, TABNAME, CREATE_TIME from SYSCAT.TABLES where TABSCHEMA = 'CDQ34813'"
   ]
  },
  {
   "cell_type": "code",
   "execution_count": 4,
   "metadata": {},
   "outputs": [
    {
     "name": "stdout",
     "output_type": "stream",
     "text": [
      " * ibm_db_sa://cdq34813:***@dashdb-txn-sbox-yp-dal09-03.services.dal.bluemix.net:50000/BLUDB\n",
      "Done.\n"
     ]
    },
    {
     "data": {
      "text/html": [
       "<table>\n",
       "    <tr>\n",
       "        <th>tabschema</th>\n",
       "        <th>tabname</th>\n",
       "        <th>owner</th>\n",
       "        <th>ownertype</th>\n",
       "        <th>TYPE</th>\n",
       "        <th>status</th>\n",
       "        <th>base_tabschema</th>\n",
       "        <th>base_tabname</th>\n",
       "        <th>rowtypeschema</th>\n",
       "        <th>rowtypename</th>\n",
       "        <th>create_time</th>\n",
       "        <th>alter_time</th>\n",
       "        <th>invalidate_time</th>\n",
       "        <th>stats_time</th>\n",
       "        <th>colcount</th>\n",
       "        <th>tableid</th>\n",
       "        <th>tbspaceid</th>\n",
       "        <th>card</th>\n",
       "        <th>npages</th>\n",
       "        <th>mpages</th>\n",
       "        <th>fpages</th>\n",
       "        <th>npartitions</th>\n",
       "        <th>nfiles</th>\n",
       "        <th>tablesize</th>\n",
       "        <th>overflow</th>\n",
       "        <th>tbspace</th>\n",
       "        <th>index_tbspace</th>\n",
       "        <th>long_tbspace</th>\n",
       "        <th>parents</th>\n",
       "        <th>children</th>\n",
       "        <th>selfrefs</th>\n",
       "        <th>keycolumns</th>\n",
       "        <th>keyindexid</th>\n",
       "        <th>keyunique</th>\n",
       "        <th>checkcount</th>\n",
       "        <th>datacapture</th>\n",
       "        <th>const_checked</th>\n",
       "        <th>pmap_id</th>\n",
       "        <th>partition_mode</th>\n",
       "        <th>log_attribute</th>\n",
       "        <th>pctfree</th>\n",
       "        <th>append_mode</th>\n",
       "        <th>REFRESH</th>\n",
       "        <th>refresh_time</th>\n",
       "        <th>LOCKSIZE</th>\n",
       "        <th>VOLATILE</th>\n",
       "        <th>row_format</th>\n",
       "        <th>property</th>\n",
       "        <th>statistics_profile</th>\n",
       "        <th>compression</th>\n",
       "        <th>rowcompmode</th>\n",
       "        <th>access_mode</th>\n",
       "        <th>clustered</th>\n",
       "        <th>active_blocks</th>\n",
       "        <th>droprule</th>\n",
       "        <th>maxfreespacesearch</th>\n",
       "        <th>avgcompressedrowsize</th>\n",
       "        <th>avgrowcompressionratio</th>\n",
       "        <th>avgrowsize</th>\n",
       "        <th>pctrowscompressed</th>\n",
       "        <th>logindexbuild</th>\n",
       "        <th>codepage</th>\n",
       "        <th>collationschema</th>\n",
       "        <th>collationname</th>\n",
       "        <th>collationschema_orderby</th>\n",
       "        <th>collationname_orderby</th>\n",
       "        <th>encoding_scheme</th>\n",
       "        <th>pctpagessaved</th>\n",
       "        <th>last_regen_time</th>\n",
       "        <th>secpolicyid</th>\n",
       "        <th>protectiongranularity</th>\n",
       "        <th>auditpolicyid</th>\n",
       "        <th>auditpolicyname</th>\n",
       "        <th>auditexceptionenabled</th>\n",
       "        <th>definer</th>\n",
       "        <th>oncommit</th>\n",
       "        <th>logged</th>\n",
       "        <th>onrollback</th>\n",
       "        <th>lastused</th>\n",
       "        <th>control</th>\n",
       "        <th>temporaltype</th>\n",
       "        <th>tableorg</th>\n",
       "        <th>extended_row_size</th>\n",
       "        <th>pctextendedrows</th>\n",
       "        <th>remarks</th>\n",
       "    </tr>\n",
       "    <tr>\n",
       "        <td>CDQ34813</td>\n",
       "        <td>SCHOOLS</td>\n",
       "        <td>CDQ34813</td>\n",
       "        <td>U</td>\n",
       "        <td>T</td>\n",
       "        <td>N</td>\n",
       "        <td>None</td>\n",
       "        <td>None</td>\n",
       "        <td>None</td>\n",
       "        <td>None</td>\n",
       "        <td>2018-09-16 08:05:27.553051</td>\n",
       "        <td>2018-09-16 08:05:27.553051</td>\n",
       "        <td>2018-09-16 08:05:27.553051</td>\n",
       "        <td>2018-09-16 08:09:04.570630</td>\n",
       "        <td>79</td>\n",
       "        <td>6</td>\n",
       "        <td>302</td>\n",
       "        <td>566</td>\n",
       "        <td>15</td>\n",
       "        <td>0</td>\n",
       "        <td>16</td>\n",
       "        <td>-1</td>\n",
       "        <td>-1</td>\n",
       "        <td>-1</td>\n",
       "        <td>0</td>\n",
       "        <td>cdq34813space1</td>\n",
       "        <td>None</td>\n",
       "        <td>None</td>\n",
       "        <td>0</td>\n",
       "        <td>0</td>\n",
       "        <td>0</td>\n",
       "        <td>0</td>\n",
       "        <td>0</td>\n",
       "        <td>0</td>\n",
       "        <td>0</td>\n",
       "        <td>N</td>\n",
       "        <td>YYYYYYYYYYYYYYYYYYYYYYYYYYYYYYYY</td>\n",
       "        <td>1</td>\n",
       "        <td> </td>\n",
       "        <td>0</td>\n",
       "        <td>-1</td>\n",
       "        <td>N</td>\n",
       "        <td> </td>\n",
       "        <td>None</td>\n",
       "        <td>R</td>\n",
       "        <td> </td>\n",
       "        <td>N</td>\n",
       "        <td>&nbsp;&nbsp;&nbsp;&nbsp;&nbsp;&nbsp;&nbsp;&nbsp;&nbsp;&nbsp;&nbsp;&nbsp;&nbsp;&nbsp;&nbsp;&nbsp;&nbsp;&nbsp;&nbsp;&nbsp;&nbsp;&nbsp;&nbsp;&nbsp;&nbsp;&nbsp;&nbsp;&nbsp;&nbsp;&nbsp;&nbsp;&nbsp;</td>\n",
       "        <td>None</td>\n",
       "        <td>N</td>\n",
       "        <td> </td>\n",
       "        <td>F</td>\n",
       "        <td>None</td>\n",
       "        <td>0</td>\n",
       "        <td>N</td>\n",
       "        <td>999</td>\n",
       "        <td>0</td>\n",
       "        <td>0.0</td>\n",
       "        <td>850</td>\n",
       "        <td>0.0</td>\n",
       "        <td>None</td>\n",
       "        <td>1208</td>\n",
       "        <td>SYSIBM</td>\n",
       "        <td>IDENTITY</td>\n",
       "        <td>SYSIBM</td>\n",
       "        <td>IDENTITY</td>\n",
       "        <td> </td>\n",
       "        <td>0</td>\n",
       "        <td>2018-09-16 08:05:27.553051</td>\n",
       "        <td>0</td>\n",
       "        <td> </td>\n",
       "        <td>None</td>\n",
       "        <td>None</td>\n",
       "        <td>N</td>\n",
       "        <td>CDQ34813</td>\n",
       "        <td> </td>\n",
       "        <td> </td>\n",
       "        <td> </td>\n",
       "        <td>0001-01-01</td>\n",
       "        <td> </td>\n",
       "        <td>N</td>\n",
       "        <td>R</td>\n",
       "        <td>N</td>\n",
       "        <td>-1.0</td>\n",
       "        <td>None</td>\n",
       "    </tr>\n",
       "</table>"
      ],
      "text/plain": [
       "[('CDQ34813', 'SCHOOLS', 'CDQ34813', 'U', 'T', 'N', None, None, None, None, datetime.datetime(2018, 9, 16, 8, 5, 27, 553051), datetime.datetime(2018, 9, 16, 8, 5, 27, 553051), datetime.datetime(2018, 9, 16, 8, 5, 27, 553051), datetime.datetime(2018, 9, 16, 8, 9, 4, 570630), 79, 6, 302, 566, 15, 0, 16, -1, -1, -1, 0, 'cdq34813space1', None, None, 0, 0, 0, 0, 0, 0, 0, 'N', 'YYYYYYYYYYYYYYYYYYYYYYYYYYYYYYYY', 1, ' ', '0', -1, 'N', ' ', None, 'R', ' ', 'N', '                                ', None, 'N', ' ', 'F', None, 0, 'N', 999, 0, 0.0, 850, 0.0, None, 1208, 'SYSIBM', 'IDENTITY', 'SYSIBM', 'IDENTITY', ' ', 0, datetime.datetime(2018, 9, 16, 8, 5, 27, 553051), 0, ' ', None, None, 'N', 'CDQ34813', ' ', ' ', ' ', datetime.date(1, 1, 1), ' ', 'N', 'R', 'N', -1.0, None)]"
      ]
     },
     "execution_count": 4,
     "metadata": {},
     "output_type": "execute_result"
    }
   ],
   "source": [
    "%sql select * from SYSCAT.TABLES where TABNAME = 'SCHOOLS'"
   ]
  },
  {
   "cell_type": "markdown",
   "metadata": {},
   "source": [
    "### 4. Query the database system catalog to retrieve column metadata\n",
    "\n",
    "##### The SCHOOLS table contains a large number of columns. How many columns does this table have?"
   ]
  },
  {
   "cell_type": "code",
   "execution_count": 5,
   "metadata": {},
   "outputs": [
    {
     "name": "stdout",
     "output_type": "stream",
     "text": [
      " * ibm_db_sa://cdq34813:***@dashdb-txn-sbox-yp-dal09-03.services.dal.bluemix.net:50000/BLUDB\n",
      "Done.\n"
     ]
    },
    {
     "data": {
      "text/html": [
       "<table>\n",
       "    <tr>\n",
       "        <th>colname</th>\n",
       "        <th>typename</th>\n",
       "        <th>length</th>\n",
       "    </tr>\n",
       "    <tr>\n",
       "        <td>9th Grade EXPLORE (2010)</td>\n",
       "        <td>VARCHAR</td>\n",
       "        <td>4</td>\n",
       "    </tr>\n",
       "    <tr>\n",
       "        <td>10th Grade PLAN (2009)</td>\n",
       "        <td>VARCHAR</td>\n",
       "        <td>4</td>\n",
       "    </tr>\n",
       "    <tr>\n",
       "        <td>10th Grade PLAN (2010)</td>\n",
       "        <td>VARCHAR</td>\n",
       "        <td>4</td>\n",
       "    </tr>\n",
       "    <tr>\n",
       "        <td>Net_Change_EXPLORE_and_PLAN</td>\n",
       "        <td>VARCHAR</td>\n",
       "        <td>3</td>\n",
       "    </tr>\n",
       "    <tr>\n",
       "        <td>11th Grade Average ACT (2011)</td>\n",
       "        <td>VARCHAR</td>\n",
       "        <td>4</td>\n",
       "    </tr>\n",
       "    <tr>\n",
       "        <td>Net_Change_PLAN_and_ACT</td>\n",
       "        <td>VARCHAR</td>\n",
       "        <td>3</td>\n",
       "    </tr>\n",
       "    <tr>\n",
       "        <td>College_Eligibility__</td>\n",
       "        <td>VARCHAR</td>\n",
       "        <td>4</td>\n",
       "    </tr>\n",
       "    <tr>\n",
       "        <td>Graduation_Rate__</td>\n",
       "        <td>VARCHAR</td>\n",
       "        <td>4</td>\n",
       "    </tr>\n",
       "    <tr>\n",
       "        <td>College_Enrollment_Rate__</td>\n",
       "        <td>VARCHAR</td>\n",
       "        <td>4</td>\n",
       "    </tr>\n",
       "    <tr>\n",
       "        <td>College_Enrollment__number_of_students_</td>\n",
       "        <td>SMALLINT</td>\n",
       "        <td>2</td>\n",
       "    </tr>\n",
       "    <tr>\n",
       "        <td>General_Services_Route</td>\n",
       "        <td>SMALLINT</td>\n",
       "        <td>2</td>\n",
       "    </tr>\n",
       "    <tr>\n",
       "        <td>Freshman_on_Track_Rate__</td>\n",
       "        <td>VARCHAR</td>\n",
       "        <td>4</td>\n",
       "    </tr>\n",
       "    <tr>\n",
       "        <td>RCDTS_Code</td>\n",
       "        <td>BIGINT</td>\n",
       "        <td>8</td>\n",
       "    </tr>\n",
       "    <tr>\n",
       "        <td>X_COORDINATE</td>\n",
       "        <td>DECIMAL</td>\n",
       "        <td>13</td>\n",
       "    </tr>\n",
       "    <tr>\n",
       "        <td>Y_COORDINATE</td>\n",
       "        <td>DECIMAL</td>\n",
       "        <td>13</td>\n",
       "    </tr>\n",
       "    <tr>\n",
       "        <td>Latitude</td>\n",
       "        <td>DECIMAL</td>\n",
       "        <td>18</td>\n",
       "    </tr>\n",
       "    <tr>\n",
       "        <td>Longitude</td>\n",
       "        <td>DECIMAL</td>\n",
       "        <td>18</td>\n",
       "    </tr>\n",
       "    <tr>\n",
       "        <td>Community_Area_Number</td>\n",
       "        <td>SMALLINT</td>\n",
       "        <td>2</td>\n",
       "    </tr>\n",
       "    <tr>\n",
       "        <td>Community_Area_Name</td>\n",
       "        <td>VARCHAR</td>\n",
       "        <td>22</td>\n",
       "    </tr>\n",
       "    <tr>\n",
       "        <td>Ward</td>\n",
       "        <td>SMALLINT</td>\n",
       "        <td>2</td>\n",
       "    </tr>\n",
       "    <tr>\n",
       "        <td>Police_District</td>\n",
       "        <td>SMALLINT</td>\n",
       "        <td>2</td>\n",
       "    </tr>\n",
       "    <tr>\n",
       "        <td>Location</td>\n",
       "        <td>VARCHAR</td>\n",
       "        <td>27</td>\n",
       "    </tr>\n",
       "    <tr>\n",
       "        <td>School_ID</td>\n",
       "        <td>INTEGER</td>\n",
       "        <td>4</td>\n",
       "    </tr>\n",
       "    <tr>\n",
       "        <td>Name_of_School</td>\n",
       "        <td>VARCHAR</td>\n",
       "        <td>65</td>\n",
       "    </tr>\n",
       "    <tr>\n",
       "        <td>Elementary, Middle, or High School</td>\n",
       "        <td>VARCHAR</td>\n",
       "        <td>2</td>\n",
       "    </tr>\n",
       "    <tr>\n",
       "        <td>Street_Address</td>\n",
       "        <td>VARCHAR</td>\n",
       "        <td>30</td>\n",
       "    </tr>\n",
       "    <tr>\n",
       "        <td>City</td>\n",
       "        <td>VARCHAR</td>\n",
       "        <td>7</td>\n",
       "    </tr>\n",
       "    <tr>\n",
       "        <td>State</td>\n",
       "        <td>VARCHAR</td>\n",
       "        <td>2</td>\n",
       "    </tr>\n",
       "    <tr>\n",
       "        <td>ZIP_Code</td>\n",
       "        <td>INTEGER</td>\n",
       "        <td>4</td>\n",
       "    </tr>\n",
       "    <tr>\n",
       "        <td>Phone_Number</td>\n",
       "        <td>VARCHAR</td>\n",
       "        <td>14</td>\n",
       "    </tr>\n",
       "    <tr>\n",
       "        <td>Link</td>\n",
       "        <td>VARCHAR</td>\n",
       "        <td>78</td>\n",
       "    </tr>\n",
       "    <tr>\n",
       "        <td>Network_Manager</td>\n",
       "        <td>VARCHAR</td>\n",
       "        <td>40</td>\n",
       "    </tr>\n",
       "    <tr>\n",
       "        <td>Collaborative_Name</td>\n",
       "        <td>VARCHAR</td>\n",
       "        <td>34</td>\n",
       "    </tr>\n",
       "    <tr>\n",
       "        <td>Adequate_Yearly_Progress_Made_</td>\n",
       "        <td>VARCHAR</td>\n",
       "        <td>3</td>\n",
       "    </tr>\n",
       "    <tr>\n",
       "        <td>Track_Schedule</td>\n",
       "        <td>VARCHAR</td>\n",
       "        <td>12</td>\n",
       "    </tr>\n",
       "    <tr>\n",
       "        <td>CPS_Performance_Policy_Status</td>\n",
       "        <td>VARCHAR</td>\n",
       "        <td>16</td>\n",
       "    </tr>\n",
       "    <tr>\n",
       "        <td>CPS_Performance_Policy_Level</td>\n",
       "        <td>VARCHAR</td>\n",
       "        <td>15</td>\n",
       "    </tr>\n",
       "    <tr>\n",
       "        <td>Healthy_Schools_Certified_</td>\n",
       "        <td>VARCHAR</td>\n",
       "        <td>3</td>\n",
       "    </tr>\n",
       "    <tr>\n",
       "        <td>Safety_Icon</td>\n",
       "        <td>VARCHAR</td>\n",
       "        <td>11</td>\n",
       "    </tr>\n",
       "    <tr>\n",
       "        <td>Safety_Score</td>\n",
       "        <td>SMALLINT</td>\n",
       "        <td>2</td>\n",
       "    </tr>\n",
       "    <tr>\n",
       "        <td>Family_Involvement_Icon</td>\n",
       "        <td>VARCHAR</td>\n",
       "        <td>11</td>\n",
       "    </tr>\n",
       "    <tr>\n",
       "        <td>Family_Involvement_Score</td>\n",
       "        <td>VARCHAR</td>\n",
       "        <td>3</td>\n",
       "    </tr>\n",
       "    <tr>\n",
       "        <td>Environment_Icon</td>\n",
       "        <td>VARCHAR</td>\n",
       "        <td>11</td>\n",
       "    </tr>\n",
       "    <tr>\n",
       "        <td>Environment_Score</td>\n",
       "        <td>SMALLINT</td>\n",
       "        <td>2</td>\n",
       "    </tr>\n",
       "    <tr>\n",
       "        <td>Instruction_Icon</td>\n",
       "        <td>VARCHAR</td>\n",
       "        <td>11</td>\n",
       "    </tr>\n",
       "    <tr>\n",
       "        <td>Instruction_Score</td>\n",
       "        <td>SMALLINT</td>\n",
       "        <td>2</td>\n",
       "    </tr>\n",
       "    <tr>\n",
       "        <td>Leaders_Icon</td>\n",
       "        <td>VARCHAR</td>\n",
       "        <td>11</td>\n",
       "    </tr>\n",
       "    <tr>\n",
       "        <td>Leaders_Score</td>\n",
       "        <td>VARCHAR</td>\n",
       "        <td>3</td>\n",
       "    </tr>\n",
       "    <tr>\n",
       "        <td>Teachers_Icon</td>\n",
       "        <td>VARCHAR</td>\n",
       "        <td>11</td>\n",
       "    </tr>\n",
       "    <tr>\n",
       "        <td>Teachers_Score</td>\n",
       "        <td>VARCHAR</td>\n",
       "        <td>3</td>\n",
       "    </tr>\n",
       "    <tr>\n",
       "        <td>Parent_Engagement_Icon</td>\n",
       "        <td>VARCHAR</td>\n",
       "        <td>7</td>\n",
       "    </tr>\n",
       "    <tr>\n",
       "        <td>Parent_Engagement_Score</td>\n",
       "        <td>VARCHAR</td>\n",
       "        <td>3</td>\n",
       "    </tr>\n",
       "    <tr>\n",
       "        <td>Parent_Environment_Icon</td>\n",
       "        <td>VARCHAR</td>\n",
       "        <td>7</td>\n",
       "    </tr>\n",
       "    <tr>\n",
       "        <td>Parent_Environment_Score</td>\n",
       "        <td>VARCHAR</td>\n",
       "        <td>3</td>\n",
       "    </tr>\n",
       "    <tr>\n",
       "        <td>Average_Student_Attendance</td>\n",
       "        <td>VARCHAR</td>\n",
       "        <td>5</td>\n",
       "    </tr>\n",
       "    <tr>\n",
       "        <td>Rate_of_Misconducts__per_100_students_</td>\n",
       "        <td>DECIMAL</td>\n",
       "        <td>5</td>\n",
       "    </tr>\n",
       "    <tr>\n",
       "        <td>Average_Teacher_Attendance</td>\n",
       "        <td>VARCHAR</td>\n",
       "        <td>5</td>\n",
       "    </tr>\n",
       "    <tr>\n",
       "        <td>Individualized_Education_Program_Compliance_Rate</td>\n",
       "        <td>VARCHAR</td>\n",
       "        <td>6</td>\n",
       "    </tr>\n",
       "    <tr>\n",
       "        <td>Pk_2_Literacy__</td>\n",
       "        <td>VARCHAR</td>\n",
       "        <td>4</td>\n",
       "    </tr>\n",
       "    <tr>\n",
       "        <td>Pk_2_Math__</td>\n",
       "        <td>VARCHAR</td>\n",
       "        <td>4</td>\n",
       "    </tr>\n",
       "    <tr>\n",
       "        <td>Gr3_5_Grade_Level_Math__</td>\n",
       "        <td>VARCHAR</td>\n",
       "        <td>4</td>\n",
       "    </tr>\n",
       "    <tr>\n",
       "        <td>Gr3_5_Grade_Level_Read__</td>\n",
       "        <td>VARCHAR</td>\n",
       "        <td>4</td>\n",
       "    </tr>\n",
       "    <tr>\n",
       "        <td>Gr3_5_Keep_Pace_Read__</td>\n",
       "        <td>VARCHAR</td>\n",
       "        <td>4</td>\n",
       "    </tr>\n",
       "    <tr>\n",
       "        <td>Gr3_5_Keep_Pace_Math__</td>\n",
       "        <td>VARCHAR</td>\n",
       "        <td>4</td>\n",
       "    </tr>\n",
       "    <tr>\n",
       "        <td>Gr6_8_Grade_Level_Math__</td>\n",
       "        <td>VARCHAR</td>\n",
       "        <td>4</td>\n",
       "    </tr>\n",
       "    <tr>\n",
       "        <td>Gr6_8_Grade_Level_Read__</td>\n",
       "        <td>VARCHAR</td>\n",
       "        <td>4</td>\n",
       "    </tr>\n",
       "    <tr>\n",
       "        <td>Gr6_8_Keep_Pace_Math_</td>\n",
       "        <td>VARCHAR</td>\n",
       "        <td>4</td>\n",
       "    </tr>\n",
       "    <tr>\n",
       "        <td>Gr6_8_Keep_Pace_Read__</td>\n",
       "        <td>VARCHAR</td>\n",
       "        <td>4</td>\n",
       "    </tr>\n",
       "    <tr>\n",
       "        <td>Gr_8_Explore_Math__</td>\n",
       "        <td>VARCHAR</td>\n",
       "        <td>4</td>\n",
       "    </tr>\n",
       "    <tr>\n",
       "        <td>Gr_8_Explore_Read__</td>\n",
       "        <td>VARCHAR</td>\n",
       "        <td>4</td>\n",
       "    </tr>\n",
       "    <tr>\n",
       "        <td>ISAT_Exceeding_Math__</td>\n",
       "        <td>DECIMAL</td>\n",
       "        <td>4</td>\n",
       "    </tr>\n",
       "    <tr>\n",
       "        <td>ISAT_Exceeding_Reading__</td>\n",
       "        <td>DECIMAL</td>\n",
       "        <td>4</td>\n",
       "    </tr>\n",
       "    <tr>\n",
       "        <td>ISAT_Value_Add_Math</td>\n",
       "        <td>DECIMAL</td>\n",
       "        <td>3</td>\n",
       "    </tr>\n",
       "    <tr>\n",
       "        <td>ISAT_Value_Add_Read</td>\n",
       "        <td>DECIMAL</td>\n",
       "        <td>3</td>\n",
       "    </tr>\n",
       "    <tr>\n",
       "        <td>ISAT_Value_Add_Color_Math</td>\n",
       "        <td>VARCHAR</td>\n",
       "        <td>6</td>\n",
       "    </tr>\n",
       "    <tr>\n",
       "        <td>ISAT_Value_Add_Color_Read</td>\n",
       "        <td>VARCHAR</td>\n",
       "        <td>6</td>\n",
       "    </tr>\n",
       "    <tr>\n",
       "        <td>Students_Taking__Algebra__</td>\n",
       "        <td>VARCHAR</td>\n",
       "        <td>4</td>\n",
       "    </tr>\n",
       "    <tr>\n",
       "        <td>Students_Passing__Algebra__</td>\n",
       "        <td>VARCHAR</td>\n",
       "        <td>4</td>\n",
       "    </tr>\n",
       "    <tr>\n",
       "        <td>9th Grade EXPLORE (2009)</td>\n",
       "        <td>VARCHAR</td>\n",
       "        <td>4</td>\n",
       "    </tr>\n",
       "</table>"
      ],
      "text/plain": [
       "[('9th Grade EXPLORE (2010)', 'VARCHAR', 4),\n",
       " ('10th Grade PLAN (2009)', 'VARCHAR', 4),\n",
       " ('10th Grade PLAN (2010)', 'VARCHAR', 4),\n",
       " ('Net_Change_EXPLORE_and_PLAN', 'VARCHAR', 3),\n",
       " ('11th Grade Average ACT (2011)', 'VARCHAR', 4),\n",
       " ('Net_Change_PLAN_and_ACT', 'VARCHAR', 3),\n",
       " ('College_Eligibility__', 'VARCHAR', 4),\n",
       " ('Graduation_Rate__', 'VARCHAR', 4),\n",
       " ('College_Enrollment_Rate__', 'VARCHAR', 4),\n",
       " ('College_Enrollment__number_of_students_', 'SMALLINT', 2),\n",
       " ('General_Services_Route', 'SMALLINT', 2),\n",
       " ('Freshman_on_Track_Rate__', 'VARCHAR', 4),\n",
       " ('RCDTS_Code', 'BIGINT', 8),\n",
       " ('X_COORDINATE', 'DECIMAL', 13),\n",
       " ('Y_COORDINATE', 'DECIMAL', 13),\n",
       " ('Latitude', 'DECIMAL', 18),\n",
       " ('Longitude', 'DECIMAL', 18),\n",
       " ('Community_Area_Number', 'SMALLINT', 2),\n",
       " ('Community_Area_Name', 'VARCHAR', 22),\n",
       " ('Ward', 'SMALLINT', 2),\n",
       " ('Police_District', 'SMALLINT', 2),\n",
       " ('Location', 'VARCHAR', 27),\n",
       " ('School_ID', 'INTEGER', 4),\n",
       " ('Name_of_School', 'VARCHAR', 65),\n",
       " ('Elementary, Middle, or High School', 'VARCHAR', 2),\n",
       " ('Street_Address', 'VARCHAR', 30),\n",
       " ('City', 'VARCHAR', 7),\n",
       " ('State', 'VARCHAR', 2),\n",
       " ('ZIP_Code', 'INTEGER', 4),\n",
       " ('Phone_Number', 'VARCHAR', 14),\n",
       " ('Link', 'VARCHAR', 78),\n",
       " ('Network_Manager', 'VARCHAR', 40),\n",
       " ('Collaborative_Name', 'VARCHAR', 34),\n",
       " ('Adequate_Yearly_Progress_Made_', 'VARCHAR', 3),\n",
       " ('Track_Schedule', 'VARCHAR', 12),\n",
       " ('CPS_Performance_Policy_Status', 'VARCHAR', 16),\n",
       " ('CPS_Performance_Policy_Level', 'VARCHAR', 15),\n",
       " ('Healthy_Schools_Certified_', 'VARCHAR', 3),\n",
       " ('Safety_Icon', 'VARCHAR', 11),\n",
       " ('Safety_Score', 'SMALLINT', 2),\n",
       " ('Family_Involvement_Icon', 'VARCHAR', 11),\n",
       " ('Family_Involvement_Score', 'VARCHAR', 3),\n",
       " ('Environment_Icon', 'VARCHAR', 11),\n",
       " ('Environment_Score', 'SMALLINT', 2),\n",
       " ('Instruction_Icon', 'VARCHAR', 11),\n",
       " ('Instruction_Score', 'SMALLINT', 2),\n",
       " ('Leaders_Icon', 'VARCHAR', 11),\n",
       " ('Leaders_Score', 'VARCHAR', 3),\n",
       " ('Teachers_Icon', 'VARCHAR', 11),\n",
       " ('Teachers_Score', 'VARCHAR', 3),\n",
       " ('Parent_Engagement_Icon', 'VARCHAR', 7),\n",
       " ('Parent_Engagement_Score', 'VARCHAR', 3),\n",
       " ('Parent_Environment_Icon', 'VARCHAR', 7),\n",
       " ('Parent_Environment_Score', 'VARCHAR', 3),\n",
       " ('Average_Student_Attendance', 'VARCHAR', 5),\n",
       " ('Rate_of_Misconducts__per_100_students_', 'DECIMAL', 5),\n",
       " ('Average_Teacher_Attendance', 'VARCHAR', 5),\n",
       " ('Individualized_Education_Program_Compliance_Rate', 'VARCHAR', 6),\n",
       " ('Pk_2_Literacy__', 'VARCHAR', 4),\n",
       " ('Pk_2_Math__', 'VARCHAR', 4),\n",
       " ('Gr3_5_Grade_Level_Math__', 'VARCHAR', 4),\n",
       " ('Gr3_5_Grade_Level_Read__', 'VARCHAR', 4),\n",
       " ('Gr3_5_Keep_Pace_Read__', 'VARCHAR', 4),\n",
       " ('Gr3_5_Keep_Pace_Math__', 'VARCHAR', 4),\n",
       " ('Gr6_8_Grade_Level_Math__', 'VARCHAR', 4),\n",
       " ('Gr6_8_Grade_Level_Read__', 'VARCHAR', 4),\n",
       " ('Gr6_8_Keep_Pace_Math_', 'VARCHAR', 4),\n",
       " ('Gr6_8_Keep_Pace_Read__', 'VARCHAR', 4),\n",
       " ('Gr_8_Explore_Math__', 'VARCHAR', 4),\n",
       " ('Gr_8_Explore_Read__', 'VARCHAR', 4),\n",
       " ('ISAT_Exceeding_Math__', 'DECIMAL', 4),\n",
       " ('ISAT_Exceeding_Reading__', 'DECIMAL', 4),\n",
       " ('ISAT_Value_Add_Math', 'DECIMAL', 3),\n",
       " ('ISAT_Value_Add_Read', 'DECIMAL', 3),\n",
       " ('ISAT_Value_Add_Color_Math', 'VARCHAR', 6),\n",
       " ('ISAT_Value_Add_Color_Read', 'VARCHAR', 6),\n",
       " ('Students_Taking__Algebra__', 'VARCHAR', 4),\n",
       " ('Students_Passing__Algebra__', 'VARCHAR', 4),\n",
       " ('9th Grade EXPLORE (2009)', 'VARCHAR', 4)]"
      ]
     },
     "execution_count": 5,
     "metadata": {},
     "output_type": "execute_result"
    }
   ],
   "source": [
    "%sql select COLNAME, TYPENAME, LENGTH from SYSCAT.COLUMNS where TABNAME = 'SCHOOLS'"
   ]
  },
  {
   "cell_type": "markdown",
   "metadata": {},
   "source": [
    "### 4. SQL examples\n",
    "\n",
    "##### How many Elementary Schools are in the dataset?"
   ]
  },
  {
   "cell_type": "code",
   "execution_count": 6,
   "metadata": {},
   "outputs": [
    {
     "name": "stdout",
     "output_type": "stream",
     "text": [
      " * ibm_db_sa://cdq34813:***@dashdb-txn-sbox-yp-dal09-03.services.dal.bluemix.net:50000/BLUDB\n",
      "Done.\n"
     ]
    },
    {
     "data": {
      "text/html": [
       "<table>\n",
       "    <tr>\n",
       "        <th>1</th>\n",
       "    </tr>\n",
       "    <tr>\n",
       "        <td>462</td>\n",
       "    </tr>\n",
       "</table>"
      ],
      "text/plain": [
       "[(Decimal('462'),)]"
      ]
     },
     "execution_count": 6,
     "metadata": {},
     "output_type": "execute_result"
    }
   ],
   "source": [
    "%sql select count(*) from SCHOOLS where \"Elementary, Middle, or High School\" = 'ES'"
   ]
  },
  {
   "cell_type": "markdown",
   "metadata": {},
   "source": [
    "##### What is the highest Safety Score?"
   ]
  },
  {
   "cell_type": "code",
   "execution_count": 7,
   "metadata": {},
   "outputs": [
    {
     "name": "stdout",
     "output_type": "stream",
     "text": [
      " * ibm_db_sa://cdq34813:***@dashdb-txn-sbox-yp-dal09-03.services.dal.bluemix.net:50000/BLUDB\n",
      "Done.\n"
     ]
    },
    {
     "data": {
      "text/html": [
       "<table>\n",
       "    <tr>\n",
       "        <th>max_safety_score</th>\n",
       "    </tr>\n",
       "    <tr>\n",
       "        <td>99</td>\n",
       "    </tr>\n",
       "</table>"
      ],
      "text/plain": [
       "[(99,)]"
      ]
     },
     "execution_count": 7,
     "metadata": {},
     "output_type": "execute_result"
    }
   ],
   "source": [
    "%sql select MAX(\"Safety_Score\") AS MAX_SAFETY_SCORE from SCHOOLS"
   ]
  },
  {
   "cell_type": "markdown",
   "metadata": {},
   "source": [
    "##### Which schools have highest Safety Score?"
   ]
  },
  {
   "cell_type": "code",
   "execution_count": 8,
   "metadata": {},
   "outputs": [
    {
     "name": "stdout",
     "output_type": "stream",
     "text": [
      " * ibm_db_sa://cdq34813:***@dashdb-txn-sbox-yp-dal09-03.services.dal.bluemix.net:50000/BLUDB\n",
      "Done.\n"
     ]
    },
    {
     "data": {
      "text/html": [
       "<table>\n",
       "    <tr>\n",
       "        <th>Name_of_School</th>\n",
       "        <th>Safety_Score</th>\n",
       "    </tr>\n",
       "    <tr>\n",
       "        <td>Abraham Lincoln Elementary School</td>\n",
       "        <td>99</td>\n",
       "    </tr>\n",
       "    <tr>\n",
       "        <td>Alexander Graham Bell Elementary School</td>\n",
       "        <td>99</td>\n",
       "    </tr>\n",
       "    <tr>\n",
       "        <td>Annie Keller Elementary Gifted Magnet School</td>\n",
       "        <td>99</td>\n",
       "    </tr>\n",
       "    <tr>\n",
       "        <td>Augustus H Burley Elementary School</td>\n",
       "        <td>99</td>\n",
       "    </tr>\n",
       "    <tr>\n",
       "        <td>Edgar Allan Poe Elementary Classical School</td>\n",
       "        <td>99</td>\n",
       "    </tr>\n",
       "    <tr>\n",
       "        <td>Edgebrook Elementary School</td>\n",
       "        <td>99</td>\n",
       "    </tr>\n",
       "    <tr>\n",
       "        <td>Ellen Mitchell Elementary School</td>\n",
       "        <td>99</td>\n",
       "    </tr>\n",
       "    <tr>\n",
       "        <td>James E McDade Elementary Classical School</td>\n",
       "        <td>99</td>\n",
       "    </tr>\n",
       "    <tr>\n",
       "        <td>James G Blaine Elementary School</td>\n",
       "        <td>99</td>\n",
       "    </tr>\n",
       "    <tr>\n",
       "        <td>LaSalle Elementary Language Academy</td>\n",
       "        <td>99</td>\n",
       "    </tr>\n",
       "    <tr>\n",
       "        <td>Mary E Courtenay Elementary Language Arts Center</td>\n",
       "        <td>99</td>\n",
       "    </tr>\n",
       "    <tr>\n",
       "        <td>Northside College Preparatory High School</td>\n",
       "        <td>99</td>\n",
       "    </tr>\n",
       "    <tr>\n",
       "        <td>Northside Learning Center High School</td>\n",
       "        <td>99</td>\n",
       "    </tr>\n",
       "    <tr>\n",
       "        <td>Norwood Park Elementary School</td>\n",
       "        <td>99</td>\n",
       "    </tr>\n",
       "    <tr>\n",
       "        <td>Oriole Park Elementary School</td>\n",
       "        <td>99</td>\n",
       "    </tr>\n",
       "    <tr>\n",
       "        <td>Sauganash Elementary School</td>\n",
       "        <td>99</td>\n",
       "    </tr>\n",
       "    <tr>\n",
       "        <td>Stephen Decatur Classical Elementary School</td>\n",
       "        <td>99</td>\n",
       "    </tr>\n",
       "    <tr>\n",
       "        <td>Talman Elementary School</td>\n",
       "        <td>99</td>\n",
       "    </tr>\n",
       "    <tr>\n",
       "        <td>Wildwood Elementary School</td>\n",
       "        <td>99</td>\n",
       "    </tr>\n",
       "</table>"
      ],
      "text/plain": [
       "[('Abraham Lincoln Elementary School', 99),\n",
       " ('Alexander Graham Bell Elementary School', 99),\n",
       " ('Annie Keller Elementary Gifted Magnet School', 99),\n",
       " ('Augustus H Burley Elementary School', 99),\n",
       " ('Edgar Allan Poe Elementary Classical School', 99),\n",
       " ('Edgebrook Elementary School', 99),\n",
       " ('Ellen Mitchell Elementary School', 99),\n",
       " ('James E McDade Elementary Classical School', 99),\n",
       " ('James G Blaine Elementary School', 99),\n",
       " ('LaSalle Elementary Language Academy', 99),\n",
       " ('Mary E Courtenay Elementary Language Arts Center', 99),\n",
       " ('Northside College Preparatory High School', 99),\n",
       " ('Northside Learning Center High School', 99),\n",
       " ('Norwood Park Elementary School', 99),\n",
       " ('Oriole Park Elementary School', 99),\n",
       " ('Sauganash Elementary School', 99),\n",
       " ('Stephen Decatur Classical Elementary School', 99),\n",
       " ('Talman Elementary School', 99),\n",
       " ('Wildwood Elementary School', 99)]"
      ]
     },
     "execution_count": 8,
     "metadata": {},
     "output_type": "execute_result"
    }
   ],
   "source": [
    "%sql select \"Name_of_School\", \"Safety_Score\" from SCHOOLS \\\n",
    "    where \"Safety_Score\" = (select MAX(\"Safety_Score\") from SCHOOLS)"
   ]
  },
  {
   "cell_type": "markdown",
   "metadata": {},
   "source": [
    "##### What are the top 10 schools with the highest \"Average Student Attendance\"?"
   ]
  },
  {
   "cell_type": "code",
   "execution_count": 9,
   "metadata": {},
   "outputs": [
    {
     "name": "stdout",
     "output_type": "stream",
     "text": [
      " * ibm_db_sa://cdq34813:***@dashdb-txn-sbox-yp-dal09-03.services.dal.bluemix.net:50000/BLUDB\n",
      "Done.\n"
     ]
    },
    {
     "data": {
      "text/html": [
       "<table>\n",
       "    <tr>\n",
       "        <th>Name_of_School</th>\n",
       "        <th>Average_Student_Attendance</th>\n",
       "    </tr>\n",
       "    <tr>\n",
       "        <td>John Charles Haines Elementary School</td>\n",
       "        <td>98.4%</td>\n",
       "    </tr>\n",
       "    <tr>\n",
       "        <td>James Ward Elementary School</td>\n",
       "        <td>97.8%</td>\n",
       "    </tr>\n",
       "    <tr>\n",
       "        <td>Edgar Allan Poe Elementary Classical School</td>\n",
       "        <td>97.6%</td>\n",
       "    </tr>\n",
       "    <tr>\n",
       "        <td>Orozco Fine Arts &amp; Sciences Elementary School</td>\n",
       "        <td>97.6%</td>\n",
       "    </tr>\n",
       "    <tr>\n",
       "        <td>Rachel Carson Elementary School</td>\n",
       "        <td>97.6%</td>\n",
       "    </tr>\n",
       "    <tr>\n",
       "        <td>Annie Keller Elementary Gifted Magnet School</td>\n",
       "        <td>97.5%</td>\n",
       "    </tr>\n",
       "    <tr>\n",
       "        <td>Andrew Jackson Elementary Language Academy</td>\n",
       "        <td>97.4%</td>\n",
       "    </tr>\n",
       "    <tr>\n",
       "        <td>Lenart Elementary Regional Gifted Center</td>\n",
       "        <td>97.4%</td>\n",
       "    </tr>\n",
       "    <tr>\n",
       "        <td>Disney II Magnet School</td>\n",
       "        <td>97.3%</td>\n",
       "    </tr>\n",
       "    <tr>\n",
       "        <td>John H Vanderpoel Elementary Magnet School</td>\n",
       "        <td>97.2%</td>\n",
       "    </tr>\n",
       "</table>"
      ],
      "text/plain": [
       "[('John Charles Haines Elementary School', '98.4%'),\n",
       " ('James Ward Elementary School', '97.8%'),\n",
       " ('Edgar Allan Poe Elementary Classical School', '97.6%'),\n",
       " ('Orozco Fine Arts & Sciences Elementary School', '97.6%'),\n",
       " ('Rachel Carson Elementary School', '97.6%'),\n",
       " ('Annie Keller Elementary Gifted Magnet School', '97.5%'),\n",
       " ('Andrew Jackson Elementary Language Academy', '97.4%'),\n",
       " ('Lenart Elementary Regional Gifted Center', '97.4%'),\n",
       " ('Disney II Magnet School', '97.3%'),\n",
       " ('John H Vanderpoel Elementary Magnet School', '97.2%')]"
      ]
     },
     "execution_count": 9,
     "metadata": {},
     "output_type": "execute_result"
    }
   ],
   "source": [
    "%sql select \"Name_of_School\", \"Average_Student_Attendance\" from SCHOOLS \\\n",
    "    order by \"Average_Student_Attendance\" desc nulls last limit 10"
   ]
  },
  {
   "cell_type": "markdown",
   "metadata": {},
   "source": [
    "##### Retrieve the list of 5 Schools with the lowest Average Student Attendance sorted in ascending order based on attendance"
   ]
  },
  {
   "cell_type": "code",
   "execution_count": 10,
   "metadata": {},
   "outputs": [
    {
     "name": "stdout",
     "output_type": "stream",
     "text": [
      " * ibm_db_sa://cdq34813:***@dashdb-txn-sbox-yp-dal09-03.services.dal.bluemix.net:50000/BLUDB\n",
      "Done.\n"
     ]
    },
    {
     "data": {
      "text/html": [
       "<table>\n",
       "    <tr>\n",
       "        <th>Name_of_School</th>\n",
       "        <th>Average_Student_Attendance</th>\n",
       "    </tr>\n",
       "    <tr>\n",
       "        <td>Richard T Crane Technical Preparatory High School</td>\n",
       "        <td>57.9%</td>\n",
       "    </tr>\n",
       "    <tr>\n",
       "        <td>Barbara Vick Early Childhood &amp; Family Center</td>\n",
       "        <td>60.9%</td>\n",
       "    </tr>\n",
       "    <tr>\n",
       "        <td>Dyett High School</td>\n",
       "        <td>62.5%</td>\n",
       "    </tr>\n",
       "    <tr>\n",
       "        <td>Wendell Phillips Academy High School</td>\n",
       "        <td>63.0%</td>\n",
       "    </tr>\n",
       "    <tr>\n",
       "        <td>Orr Academy High School</td>\n",
       "        <td>66.3%</td>\n",
       "    </tr>\n",
       "</table>"
      ],
      "text/plain": [
       "[('Richard T Crane Technical Preparatory High School', '57.9%'),\n",
       " ('Barbara Vick Early Childhood & Family Center', '60.9%'),\n",
       " ('Dyett High School', '62.5%'),\n",
       " ('Wendell Phillips Academy High School', '63.0%'),\n",
       " ('Orr Academy High School', '66.3%')]"
      ]
     },
     "execution_count": 10,
     "metadata": {},
     "output_type": "execute_result"
    }
   ],
   "source": [
    "%sql SELECT \"Name_of_School\", \"Average_Student_Attendance\" \\\n",
    "     from SCHOOLS \\\n",
    "     order by \"Average_Student_Attendance\" \\\n",
    "     fetch first 5 rows only"
   ]
  },
  {
   "cell_type": "markdown",
   "metadata": {},
   "source": [
    "##### Now remove the '%' sign from the above result set for Average Student Attendance column"
   ]
  },
  {
   "cell_type": "code",
   "execution_count": 11,
   "metadata": {},
   "outputs": [
    {
     "name": "stdout",
     "output_type": "stream",
     "text": [
      " * ibm_db_sa://cdq34813:***@dashdb-txn-sbox-yp-dal09-03.services.dal.bluemix.net:50000/BLUDB\n",
      "Done.\n"
     ]
    },
    {
     "data": {
      "text/html": [
       "<table>\n",
       "    <tr>\n",
       "        <th>Name_of_School</th>\n",
       "        <th>2</th>\n",
       "    </tr>\n",
       "    <tr>\n",
       "        <td>Richard T Crane Technical Preparatory High School</td>\n",
       "        <td>57.9</td>\n",
       "    </tr>\n",
       "    <tr>\n",
       "        <td>Barbara Vick Early Childhood &amp; Family Center</td>\n",
       "        <td>60.9</td>\n",
       "    </tr>\n",
       "    <tr>\n",
       "        <td>Dyett High School</td>\n",
       "        <td>62.5</td>\n",
       "    </tr>\n",
       "    <tr>\n",
       "        <td>Wendell Phillips Academy High School</td>\n",
       "        <td>63.0</td>\n",
       "    </tr>\n",
       "    <tr>\n",
       "        <td>Orr Academy High School</td>\n",
       "        <td>66.3</td>\n",
       "    </tr>\n",
       "</table>"
      ],
      "text/plain": [
       "[('Richard T Crane Technical Preparatory High School', '57.9'),\n",
       " ('Barbara Vick Early Childhood & Family Center', '60.9'),\n",
       " ('Dyett High School', '62.5'),\n",
       " ('Wendell Phillips Academy High School', '63.0'),\n",
       " ('Orr Academy High School', '66.3')]"
      ]
     },
     "execution_count": 11,
     "metadata": {},
     "output_type": "execute_result"
    }
   ],
   "source": [
    "%sql SELECT \"Name_of_School\", REPLACE(\"Average_Student_Attendance\", '%', '') \\\n",
    "     from SCHOOLS \\\n",
    "     order by \"Average_Student_Attendance\" \\\n",
    "     fetch first 5 rows only"
   ]
  },
  {
   "cell_type": "markdown",
   "metadata": {},
   "source": [
    "##### Which Schools have Average Student Attendance lower than 70%?"
   ]
  },
  {
   "cell_type": "code",
   "execution_count": 12,
   "metadata": {},
   "outputs": [
    {
     "name": "stdout",
     "output_type": "stream",
     "text": [
      " * ibm_db_sa://cdq34813:***@dashdb-txn-sbox-yp-dal09-03.services.dal.bluemix.net:50000/BLUDB\n",
      "Done.\n"
     ]
    },
    {
     "data": {
      "text/html": [
       "<table>\n",
       "    <tr>\n",
       "        <th>Name_of_School</th>\n",
       "        <th>Average_Student_Attendance</th>\n",
       "    </tr>\n",
       "    <tr>\n",
       "        <td>Richard T Crane Technical Preparatory High School</td>\n",
       "        <td>57.9%</td>\n",
       "    </tr>\n",
       "    <tr>\n",
       "        <td>Barbara Vick Early Childhood &amp; Family Center</td>\n",
       "        <td>60.9%</td>\n",
       "    </tr>\n",
       "    <tr>\n",
       "        <td>Dyett High School</td>\n",
       "        <td>62.5%</td>\n",
       "    </tr>\n",
       "    <tr>\n",
       "        <td>Wendell Phillips Academy High School</td>\n",
       "        <td>63.0%</td>\n",
       "    </tr>\n",
       "    <tr>\n",
       "        <td>Orr Academy High School</td>\n",
       "        <td>66.3%</td>\n",
       "    </tr>\n",
       "    <tr>\n",
       "        <td>Manley Career Academy High School</td>\n",
       "        <td>66.8%</td>\n",
       "    </tr>\n",
       "    <tr>\n",
       "        <td>Chicago Vocational Career Academy High School</td>\n",
       "        <td>68.8%</td>\n",
       "    </tr>\n",
       "    <tr>\n",
       "        <td>Roberto Clemente Community Academy High School</td>\n",
       "        <td>69.6%</td>\n",
       "    </tr>\n",
       "</table>"
      ],
      "text/plain": [
       "[('Richard T Crane Technical Preparatory High School', '57.9%'),\n",
       " ('Barbara Vick Early Childhood & Family Center', '60.9%'),\n",
       " ('Dyett High School', '62.5%'),\n",
       " ('Wendell Phillips Academy High School', '63.0%'),\n",
       " ('Orr Academy High School', '66.3%'),\n",
       " ('Manley Career Academy High School', '66.8%'),\n",
       " ('Chicago Vocational Career Academy High School', '68.8%'),\n",
       " ('Roberto Clemente Community Academy High School', '69.6%')]"
      ]
     },
     "execution_count": 12,
     "metadata": {},
     "output_type": "execute_result"
    }
   ],
   "source": [
    "%sql SELECT \"Name_of_School\", \"Average_Student_Attendance\" \\\n",
    "     from SCHOOLS \\\n",
    "     where CAST(REPLACE(\"Average_Student_Attendance\", '%', '') AS DOUBLE) < 70 \\\n",
    "     order by \"Average_Student_Attendance\""
   ]
  },
  {
   "cell_type": "markdown",
   "metadata": {},
   "source": [
    "##### Get the total __College Enrollment (number of students)__ for each Community Area"
   ]
  },
  {
   "cell_type": "code",
   "execution_count": 13,
   "metadata": {},
   "outputs": [
    {
     "name": "stdout",
     "output_type": "stream",
     "text": [
      " * ibm_db_sa://cdq34813:***@dashdb-txn-sbox-yp-dal09-03.services.dal.bluemix.net:50000/BLUDB\n",
      "Done.\n"
     ]
    },
    {
     "data": {
      "text/html": [
       "<table>\n",
       "    <tr>\n",
       "        <th>Community_Area_Name</th>\n",
       "        <th>total_enrollment</th>\n",
       "    </tr>\n",
       "    <tr>\n",
       "        <td>ALBANY PARK</td>\n",
       "        <td>6864</td>\n",
       "    </tr>\n",
       "    <tr>\n",
       "        <td>ARCHER HEIGHTS</td>\n",
       "        <td>4823</td>\n",
       "    </tr>\n",
       "    <tr>\n",
       "        <td>ARMOUR SQUARE</td>\n",
       "        <td>1458</td>\n",
       "    </tr>\n",
       "    <tr>\n",
       "        <td>ASHBURN</td>\n",
       "        <td>6483</td>\n",
       "    </tr>\n",
       "    <tr>\n",
       "        <td>AUBURN GRESHAM</td>\n",
       "        <td>4175</td>\n",
       "    </tr>\n",
       "    <tr>\n",
       "        <td>AUSTIN</td>\n",
       "        <td>10933</td>\n",
       "    </tr>\n",
       "    <tr>\n",
       "        <td>AVALON PARK</td>\n",
       "        <td>1522</td>\n",
       "    </tr>\n",
       "    <tr>\n",
       "        <td>AVONDALE</td>\n",
       "        <td>3640</td>\n",
       "    </tr>\n",
       "    <tr>\n",
       "        <td>BELMONT CRAGIN</td>\n",
       "        <td>14386</td>\n",
       "    </tr>\n",
       "    <tr>\n",
       "        <td>BEVERLY</td>\n",
       "        <td>1636</td>\n",
       "    </tr>\n",
       "    <tr>\n",
       "        <td>BRIDGEPORT</td>\n",
       "        <td>3167</td>\n",
       "    </tr>\n",
       "    <tr>\n",
       "        <td>BRIGHTON PARK</td>\n",
       "        <td>9647</td>\n",
       "    </tr>\n",
       "    <tr>\n",
       "        <td>BURNSIDE</td>\n",
       "        <td>549</td>\n",
       "    </tr>\n",
       "    <tr>\n",
       "        <td>CALUMET HEIGHTS</td>\n",
       "        <td>1568</td>\n",
       "    </tr>\n",
       "    <tr>\n",
       "        <td>CHATHAM</td>\n",
       "        <td>5042</td>\n",
       "    </tr>\n",
       "    <tr>\n",
       "        <td>CHICAGO LAWN</td>\n",
       "        <td>7086</td>\n",
       "    </tr>\n",
       "    <tr>\n",
       "        <td>CLEARING</td>\n",
       "        <td>2085</td>\n",
       "    </tr>\n",
       "    <tr>\n",
       "        <td>DOUGLAS</td>\n",
       "        <td>4670</td>\n",
       "    </tr>\n",
       "    <tr>\n",
       "        <td>DUNNING</td>\n",
       "        <td>4568</td>\n",
       "    </tr>\n",
       "    <tr>\n",
       "        <td>EAST GARFIELD PARK</td>\n",
       "        <td>5337</td>\n",
       "    </tr>\n",
       "    <tr>\n",
       "        <td>EAST SIDE</td>\n",
       "        <td>5305</td>\n",
       "    </tr>\n",
       "    <tr>\n",
       "        <td>EDGEWATER</td>\n",
       "        <td>4600</td>\n",
       "    </tr>\n",
       "    <tr>\n",
       "        <td>EDISON PARK</td>\n",
       "        <td>910</td>\n",
       "    </tr>\n",
       "    <tr>\n",
       "        <td>ENGLEWOOD</td>\n",
       "        <td>6832</td>\n",
       "    </tr>\n",
       "    <tr>\n",
       "        <td>FOREST GLEN</td>\n",
       "        <td>1431</td>\n",
       "    </tr>\n",
       "    <tr>\n",
       "        <td>FULLER PARK</td>\n",
       "        <td>531</td>\n",
       "    </tr>\n",
       "    <tr>\n",
       "        <td>GAGE PARK</td>\n",
       "        <td>9915</td>\n",
       "    </tr>\n",
       "    <tr>\n",
       "        <td>GARFIELD RIDGE</td>\n",
       "        <td>4552</td>\n",
       "    </tr>\n",
       "    <tr>\n",
       "        <td>GRAND BOULEVARD</td>\n",
       "        <td>2809</td>\n",
       "    </tr>\n",
       "    <tr>\n",
       "        <td>GREATER GRAND CROSSING</td>\n",
       "        <td>4051</td>\n",
       "    </tr>\n",
       "    <tr>\n",
       "        <td>HEGEWISCH</td>\n",
       "        <td>963</td>\n",
       "    </tr>\n",
       "    <tr>\n",
       "        <td>HERMOSA</td>\n",
       "        <td>3975</td>\n",
       "    </tr>\n",
       "    <tr>\n",
       "        <td>HUMBOLDT PARK</td>\n",
       "        <td>8620</td>\n",
       "    </tr>\n",
       "    <tr>\n",
       "        <td>HYDE PARK</td>\n",
       "        <td>1930</td>\n",
       "    </tr>\n",
       "    <tr>\n",
       "        <td>IRVING PARK</td>\n",
       "        <td>7764</td>\n",
       "    </tr>\n",
       "    <tr>\n",
       "        <td>JEFFERSON PARK</td>\n",
       "        <td>1755</td>\n",
       "    </tr>\n",
       "    <tr>\n",
       "        <td>KENWOOD</td>\n",
       "        <td>4287</td>\n",
       "    </tr>\n",
       "    <tr>\n",
       "        <td>LAKE VIEW</td>\n",
       "        <td>7055</td>\n",
       "    </tr>\n",
       "    <tr>\n",
       "        <td>LINCOLN PARK</td>\n",
       "        <td>5615</td>\n",
       "    </tr>\n",
       "    <tr>\n",
       "        <td>LINCOLN SQUARE</td>\n",
       "        <td>4132</td>\n",
       "    </tr>\n",
       "    <tr>\n",
       "        <td>LOGAN SQUARE</td>\n",
       "        <td>7351</td>\n",
       "    </tr>\n",
       "    <tr>\n",
       "        <td>LOOP</td>\n",
       "        <td>871</td>\n",
       "    </tr>\n",
       "    <tr>\n",
       "        <td>LOWER WEST SIDE</td>\n",
       "        <td>7257</td>\n",
       "    </tr>\n",
       "    <tr>\n",
       "        <td>MCKINLEY PARK</td>\n",
       "        <td>1552</td>\n",
       "    </tr>\n",
       "    <tr>\n",
       "        <td>MONTCLARE</td>\n",
       "        <td>1317</td>\n",
       "    </tr>\n",
       "    <tr>\n",
       "        <td>MORGAN PARK</td>\n",
       "        <td>3271</td>\n",
       "    </tr>\n",
       "    <tr>\n",
       "        <td>MOUNT GREENWOOD</td>\n",
       "        <td>2091</td>\n",
       "    </tr>\n",
       "    <tr>\n",
       "        <td>NEAR NORTH SIDE</td>\n",
       "        <td>3362</td>\n",
       "    </tr>\n",
       "    <tr>\n",
       "        <td>NEAR SOUTH SIDE</td>\n",
       "        <td>1378</td>\n",
       "    </tr>\n",
       "    <tr>\n",
       "        <td>NEAR WEST SIDE</td>\n",
       "        <td>7975</td>\n",
       "    </tr>\n",
       "    <tr>\n",
       "        <td>NEW CITY</td>\n",
       "        <td>7922</td>\n",
       "    </tr>\n",
       "    <tr>\n",
       "        <td>NORTH CENTER</td>\n",
       "        <td>7541</td>\n",
       "    </tr>\n",
       "    <tr>\n",
       "        <td>NORTH LAWNDALE</td>\n",
       "        <td>5146</td>\n",
       "    </tr>\n",
       "    <tr>\n",
       "        <td>NORTH PARK</td>\n",
       "        <td>4210</td>\n",
       "    </tr>\n",
       "    <tr>\n",
       "        <td>NORWOOD PARK</td>\n",
       "        <td>6469</td>\n",
       "    </tr>\n",
       "    <tr>\n",
       "        <td>OAKLAND</td>\n",
       "        <td>140</td>\n",
       "    </tr>\n",
       "    <tr>\n",
       "        <td>OHARE</td>\n",
       "        <td>786</td>\n",
       "    </tr>\n",
       "    <tr>\n",
       "        <td>PORTAGE PARK</td>\n",
       "        <td>6954</td>\n",
       "    </tr>\n",
       "    <tr>\n",
       "        <td>PULLMAN</td>\n",
       "        <td>1620</td>\n",
       "    </tr>\n",
       "    <tr>\n",
       "        <td>RIVERDALE</td>\n",
       "        <td>1547</td>\n",
       "    </tr>\n",
       "    <tr>\n",
       "        <td>ROGERS PARK</td>\n",
       "        <td>4068</td>\n",
       "    </tr>\n",
       "    <tr>\n",
       "        <td>ROSELAND</td>\n",
       "        <td>7020</td>\n",
       "    </tr>\n",
       "    <tr>\n",
       "        <td>SOUTH CHICAGO</td>\n",
       "        <td>4043</td>\n",
       "    </tr>\n",
       "    <tr>\n",
       "        <td>SOUTH DEERING</td>\n",
       "        <td>1859</td>\n",
       "    </tr>\n",
       "    <tr>\n",
       "        <td>SOUTH LAWNDALE</td>\n",
       "        <td>14793</td>\n",
       "    </tr>\n",
       "    <tr>\n",
       "        <td>SOUTH SHORE</td>\n",
       "        <td>4543</td>\n",
       "    </tr>\n",
       "    <tr>\n",
       "        <td>UPTOWN</td>\n",
       "        <td>4388</td>\n",
       "    </tr>\n",
       "    <tr>\n",
       "        <td>WASHINGTON HEIGHTS</td>\n",
       "        <td>4006</td>\n",
       "    </tr>\n",
       "    <tr>\n",
       "        <td>WASHINGTON PARK</td>\n",
       "        <td>2648</td>\n",
       "    </tr>\n",
       "    <tr>\n",
       "        <td>WEST ELSDON</td>\n",
       "        <td>3700</td>\n",
       "    </tr>\n",
       "    <tr>\n",
       "        <td>WEST ENGLEWOOD</td>\n",
       "        <td>5946</td>\n",
       "    </tr>\n",
       "    <tr>\n",
       "        <td>WEST GARFIELD PARK</td>\n",
       "        <td>2622</td>\n",
       "    </tr>\n",
       "    <tr>\n",
       "        <td>WEST LAWN</td>\n",
       "        <td>4207</td>\n",
       "    </tr>\n",
       "    <tr>\n",
       "        <td>WEST PULLMAN</td>\n",
       "        <td>3240</td>\n",
       "    </tr>\n",
       "    <tr>\n",
       "        <td>WEST RIDGE</td>\n",
       "        <td>8197</td>\n",
       "    </tr>\n",
       "    <tr>\n",
       "        <td>WEST TOWN</td>\n",
       "        <td>9429</td>\n",
       "    </tr>\n",
       "    <tr>\n",
       "        <td>WOODLAWN</td>\n",
       "        <td>4206</td>\n",
       "    </tr>\n",
       "</table>"
      ],
      "text/plain": [
       "[('ALBANY PARK', 6864),\n",
       " ('ARCHER HEIGHTS', 4823),\n",
       " ('ARMOUR SQUARE', 1458),\n",
       " ('ASHBURN', 6483),\n",
       " ('AUBURN GRESHAM', 4175),\n",
       " ('AUSTIN', 10933),\n",
       " ('AVALON PARK', 1522),\n",
       " ('AVONDALE', 3640),\n",
       " ('BELMONT CRAGIN', 14386),\n",
       " ('BEVERLY', 1636),\n",
       " ('BRIDGEPORT', 3167),\n",
       " ('BRIGHTON PARK', 9647),\n",
       " ('BURNSIDE', 549),\n",
       " ('CALUMET HEIGHTS', 1568),\n",
       " ('CHATHAM', 5042),\n",
       " ('CHICAGO LAWN', 7086),\n",
       " ('CLEARING', 2085),\n",
       " ('DOUGLAS', 4670),\n",
       " ('DUNNING', 4568),\n",
       " ('EAST GARFIELD PARK', 5337),\n",
       " ('EAST SIDE', 5305),\n",
       " ('EDGEWATER', 4600),\n",
       " ('EDISON PARK', 910),\n",
       " ('ENGLEWOOD', 6832),\n",
       " ('FOREST GLEN', 1431),\n",
       " ('FULLER PARK', 531),\n",
       " ('GAGE PARK', 9915),\n",
       " ('GARFIELD RIDGE', 4552),\n",
       " ('GRAND BOULEVARD', 2809),\n",
       " ('GREATER GRAND CROSSING', 4051),\n",
       " ('HEGEWISCH', 963),\n",
       " ('HERMOSA', 3975),\n",
       " ('HUMBOLDT PARK', 8620),\n",
       " ('HYDE PARK', 1930),\n",
       " ('IRVING PARK', 7764),\n",
       " ('JEFFERSON PARK', 1755),\n",
       " ('KENWOOD', 4287),\n",
       " ('LAKE VIEW', 7055),\n",
       " ('LINCOLN PARK', 5615),\n",
       " ('LINCOLN SQUARE', 4132),\n",
       " ('LOGAN SQUARE', 7351),\n",
       " ('LOOP', 871),\n",
       " ('LOWER WEST SIDE', 7257),\n",
       " ('MCKINLEY PARK', 1552),\n",
       " ('MONTCLARE', 1317),\n",
       " ('MORGAN PARK', 3271),\n",
       " ('MOUNT GREENWOOD', 2091),\n",
       " ('NEAR NORTH SIDE', 3362),\n",
       " ('NEAR SOUTH SIDE', 1378),\n",
       " ('NEAR WEST SIDE', 7975),\n",
       " ('NEW CITY', 7922),\n",
       " ('NORTH CENTER', 7541),\n",
       " ('NORTH LAWNDALE', 5146),\n",
       " ('NORTH PARK', 4210),\n",
       " ('NORWOOD PARK', 6469),\n",
       " ('OAKLAND', 140),\n",
       " ('OHARE', 786),\n",
       " ('PORTAGE PARK', 6954),\n",
       " ('PULLMAN', 1620),\n",
       " ('RIVERDALE', 1547),\n",
       " ('ROGERS PARK', 4068),\n",
       " ('ROSELAND', 7020),\n",
       " ('SOUTH CHICAGO', 4043),\n",
       " ('SOUTH DEERING', 1859),\n",
       " ('SOUTH LAWNDALE', 14793),\n",
       " ('SOUTH SHORE', 4543),\n",
       " ('UPTOWN', 4388),\n",
       " ('WASHINGTON HEIGHTS', 4006),\n",
       " ('WASHINGTON PARK', 2648),\n",
       " ('WEST ELSDON', 3700),\n",
       " ('WEST ENGLEWOOD', 5946),\n",
       " ('WEST GARFIELD PARK', 2622),\n",
       " ('WEST LAWN', 4207),\n",
       " ('WEST PULLMAN', 3240),\n",
       " ('WEST RIDGE', 8197),\n",
       " ('WEST TOWN', 9429),\n",
       " ('WOODLAWN', 4206)]"
      ]
     },
     "execution_count": 13,
     "metadata": {},
     "output_type": "execute_result"
    }
   ],
   "source": [
    "%sql select \"Community_Area_Name\", sum(\"College_Enrollment__number_of_students_\") AS TOTAL_ENROLLMENT \\\n",
    "   from SCHOOLS \\\n",
    "   group by \"Community_Area_Name\" "
   ]
  },
  {
   "cell_type": "markdown",
   "metadata": {},
   "source": [
    "##### Get the 5 Community Areas with the least total __College Enrollment (number of students)__  sorted in ascending order "
   ]
  },
  {
   "cell_type": "code",
   "execution_count": 14,
   "metadata": {
    "scrolled": true
   },
   "outputs": [
    {
     "name": "stdout",
     "output_type": "stream",
     "text": [
      " * ibm_db_sa://cdq34813:***@dashdb-txn-sbox-yp-dal09-03.services.dal.bluemix.net:50000/BLUDB\n",
      "Done.\n"
     ]
    },
    {
     "data": {
      "text/html": [
       "<table>\n",
       "    <tr>\n",
       "        <th>Community_Area_Name</th>\n",
       "        <th>total_enrollment</th>\n",
       "    </tr>\n",
       "    <tr>\n",
       "        <td>OAKLAND</td>\n",
       "        <td>140</td>\n",
       "    </tr>\n",
       "    <tr>\n",
       "        <td>FULLER PARK</td>\n",
       "        <td>531</td>\n",
       "    </tr>\n",
       "    <tr>\n",
       "        <td>BURNSIDE</td>\n",
       "        <td>549</td>\n",
       "    </tr>\n",
       "    <tr>\n",
       "        <td>OHARE</td>\n",
       "        <td>786</td>\n",
       "    </tr>\n",
       "    <tr>\n",
       "        <td>LOOP</td>\n",
       "        <td>871</td>\n",
       "    </tr>\n",
       "</table>"
      ],
      "text/plain": [
       "[('OAKLAND', 140),\n",
       " ('FULLER PARK', 531),\n",
       " ('BURNSIDE', 549),\n",
       " ('OHARE', 786),\n",
       " ('LOOP', 871)]"
      ]
     },
     "execution_count": 14,
     "metadata": {},
     "output_type": "execute_result"
    }
   ],
   "source": [
    "%sql select \"Community_Area_Name\", sum(\"College_Enrollment__number_of_students_\") AS TOTAL_ENROLLMENT \\\n",
    "   from SCHOOLS \\\n",
    "   group by \"Community_Area_Name\" \\\n",
    "   order by TOTAL_ENROLLMENT asc \\\n",
    "   fetch first 5 rows only"
   ]
  }
 ],
 "metadata": {
  "kernelspec": {
   "display_name": "Python 3",
   "language": "python",
   "name": "python3"
  },
  "language_info": {
   "codemirror_mode": {
    "name": "ipython",
    "version": 3
   },
   "file_extension": ".py",
   "mimetype": "text/x-python",
   "name": "python",
   "nbconvert_exporter": "python",
   "pygments_lexer": "ipython3",
   "version": "3.5.2"
  },
  "toc": {
   "base_numbering": 1,
   "nav_menu": {},
   "number_sections": false,
   "sideBar": true,
   "skip_h1_title": false,
   "title_cell": "Table of Contents",
   "title_sidebar": "Contents",
   "toc_cell": true,
   "toc_position": {},
   "toc_section_display": true,
   "toc_window_display": true
  },
  "widgets": {
   "state": {},
   "version": "1.1.2"
  }
 },
 "nbformat": 4,
 "nbformat_minor": 2
}
